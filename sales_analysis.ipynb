{
 "cells": [
  {
   "cell_type": "markdown",
   "metadata": {},
   "source": [
    "Indiquer les pourcentages de produit inactif \n",
    "Ne pas parler des outliers dans la mission 1.\n",
    "Mettre plus de graphiques\n",
    "ajouter des graphiques \n",
    "\n",
    "Inclure dans le diaporama les moyennes des prix par categ\n",
    "\n",
    "Ajouter les scatterplot "
   ]
  },
  {
   "cell_type": "markdown",
   "metadata": {},
   "source": [
    "# Sommaire "
   ]
  },
  {
   "cell_type": "markdown",
   "metadata": {},
   "source": [
    "[Mission n°1](#Mission-n°1)"
   ]
  },
  {
   "cell_type": "markdown",
   "metadata": {},
   "source": [
    "[A. Importation des bibliothèques](#A.-Importation-des-bibliothèques)"
   ]
  },
  {
   "cell_type": "markdown",
   "metadata": {},
   "source": [
    "[B. Importation et réorganisation des données](#B.-Importation-et-réorganisation-des-données)"
   ]
  },
  {
   "cell_type": "markdown",
   "metadata": {},
   "source": [
    "[1. Importation](#1.-Importation)"
   ]
  },
  {
   "cell_type": "markdown",
   "metadata": {},
   "source": [
    "[2. Réorganisation](#2.-Réorganisation)"
   ]
  },
  {
   "cell_type": "markdown",
   "metadata": {},
   "source": [
    "[a. La table customers](#a.-La-table-customers)"
   ]
  },
  {
   "cell_type": "markdown",
   "metadata": {},
   "source": [
    "[b. La table products](#b.-La-table-products)"
   ]
  },
  {
   "cell_type": "markdown",
   "metadata": {},
   "source": [
    "[c. La table association](#c.-La-table-association)"
   ]
  },
  {
   "cell_type": "markdown",
   "metadata": {},
   "source": [
    "[3. Jointure des tables, et traitement des NaN](#3.-Jointure-des-tables,-et-traitement-des-NaN)"
   ]
  },
  {
   "cell_type": "markdown",
   "metadata": {},
   "source": [
    "[Mission n°2](#Mission-n°2)"
   ]
  },
  {
   "cell_type": "markdown",
   "metadata": {},
   "source": [
    "[Mission n°3](#Mission-n°3)"
   ]
  },
  {
   "cell_type": "markdown",
   "metadata": {},
   "source": [
    "[1. Corrélation entre le sexe des clients et les catégories de produits achetés](#1.-Corrélation-entre-le-sexe-des-clients-et-les-catégories-de-produits-achetés)"
   ]
  },
  {
   "cell_type": "markdown",
   "metadata": {},
   "source": [
    "[2. Corrélations entre l'âge des clients et :](#2.-Corrélations-entre-l'âge-des-clients-et-:)"
   ]
  },
  {
   "cell_type": "markdown",
   "metadata": {},
   "source": [
    "[a. Le montant total des achats](#a.-Le-montant-total-des-achats)"
   ]
  },
  {
   "cell_type": "markdown",
   "metadata": {},
   "source": [
    "[b. La fréquence d'achat](#b.-La-fréquence-d'achat)"
   ]
  },
  {
   "cell_type": "markdown",
   "metadata": {},
   "source": [
    "[c. La taille du panier moyen](#c.-La-taille-du-panier-moyen)"
   ]
  },
  {
   "cell_type": "markdown",
   "metadata": {},
   "source": [
    "[d. Les catégories de produits achetés](#d.-Les-catégories-de-produits-achetés)"
   ]
  },
  {
   "cell_type": "markdown",
   "metadata": {},
   "source": [
    "# Mission n°1"
   ]
  },
  {
   "cell_type": "markdown",
   "metadata": {},
   "source": [
    "## A. Importation des bibliothèques"
   ]
  },
  {
   "cell_type": "code",
   "execution_count": 126,
   "metadata": {},
   "outputs": [],
   "source": [
    "import numpy as np\n",
    "import pandas as pd\n",
    "import seaborn as sns\n",
    "import matplotlib.pyplot as plt\n",
    "from datetime import datetime\n",
    "from datetime import date\n",
    "import scipy.stats as st\n",
    "import statsmodels.api as sm"
   ]
  },
  {
   "cell_type": "markdown",
   "metadata": {},
   "source": [
    "## B. Importation et réorganisation des données"
   ]
  },
  {
   "cell_type": "markdown",
   "metadata": {},
   "source": [
    "### 1. Importation"
   ]
  },
  {
   "cell_type": "markdown",
   "metadata": {},
   "source": [
    "Trois tables sont à importer. "
   ]
  },
  {
   "cell_type": "code",
   "execution_count": 127,
   "metadata": {},
   "outputs": [],
   "source": [
    "customers = pd.read_csv('C:\\\\Users\\\\octav\\\\Google Drive\\\\OC_Data Analyst_GORAM Octave\\\\Projets\\\\Projet 4\\\\CSV\\\\customers.csv',parse_dates=[1,2]) # parse_dates permet d'indiquer qu'elle colonne contient des dates\n",
    "products = pd.read_csv('C:\\\\Users\\\\octav\\\\Google Drive\\\\OC_Data Analyst_GORAM Octave\\\\Projets\\\\Projet 4\\\\CSV\\\\products.csv')\n",
    "association = pd.read_csv('C:\\\\Users\\\\octav\\\\Google Drive\\\\OC_Data Analyst_GORAM Octave\\\\Projets\\\\Projet 4\\\\CSV\\\\transactions.csv',parse_dates=[1,1])"
   ]
  },
  {
   "cell_type": "markdown",
   "metadata": {},
   "source": [
    "### 2. Réorganisation"
   ]
  },
  {
   "cell_type": "markdown",
   "metadata": {},
   "source": [
    "#### a. La table customers"
   ]
  },
  {
   "cell_type": "code",
   "execution_count": 128,
   "metadata": {},
   "outputs": [
    {
     "data": {
      "text/html": [
       "<div>\n",
       "<style scoped>\n",
       "    .dataframe tbody tr th:only-of-type {\n",
       "        vertical-align: middle;\n",
       "    }\n",
       "\n",
       "    .dataframe tbody tr th {\n",
       "        vertical-align: top;\n",
       "    }\n",
       "\n",
       "    .dataframe thead th {\n",
       "        text-align: right;\n",
       "    }\n",
       "</style>\n",
       "<table border=\"1\" class=\"dataframe\">\n",
       "  <thead>\n",
       "    <tr style=\"text-align: right;\">\n",
       "      <th></th>\n",
       "      <th>client_id</th>\n",
       "      <th>sex</th>\n",
       "      <th>birth</th>\n",
       "    </tr>\n",
       "  </thead>\n",
       "  <tbody>\n",
       "    <tr>\n",
       "      <th>0</th>\n",
       "      <td>c_4410</td>\n",
       "      <td>f</td>\n",
       "      <td>1967-01-01</td>\n",
       "    </tr>\n",
       "    <tr>\n",
       "      <th>1</th>\n",
       "      <td>c_7839</td>\n",
       "      <td>f</td>\n",
       "      <td>1975-01-01</td>\n",
       "    </tr>\n",
       "    <tr>\n",
       "      <th>2</th>\n",
       "      <td>c_1699</td>\n",
       "      <td>f</td>\n",
       "      <td>1984-01-01</td>\n",
       "    </tr>\n",
       "    <tr>\n",
       "      <th>3</th>\n",
       "      <td>c_5961</td>\n",
       "      <td>f</td>\n",
       "      <td>1962-01-01</td>\n",
       "    </tr>\n",
       "    <tr>\n",
       "      <th>4</th>\n",
       "      <td>c_5320</td>\n",
       "      <td>m</td>\n",
       "      <td>1943-01-01</td>\n",
       "    </tr>\n",
       "  </tbody>\n",
       "</table>\n",
       "</div>"
      ],
      "text/plain": [
       "  client_id sex      birth\n",
       "0    c_4410   f 1967-01-01\n",
       "1    c_7839   f 1975-01-01\n",
       "2    c_1699   f 1984-01-01\n",
       "3    c_5961   f 1962-01-01\n",
       "4    c_5320   m 1943-01-01"
      ]
     },
     "execution_count": 128,
     "metadata": {},
     "output_type": "execute_result"
    }
   ],
   "source": [
    "customers.head()"
   ]
  },
  {
   "cell_type": "markdown",
   "metadata": {},
   "source": [
    "La table `customers` indique l'identfiant des clients, leurs sex et leurs date de naissance.\n",
    "S'agissant des dates de naissances des clients, seul l'année est connu. Ainsi, lorsque la date de naissance est convertie en date au sens de pandas, elle est affichée au format \"aaaa-mm-jj\", faut donc la convertir au format année : "
   ]
  },
  {
   "cell_type": "code",
   "execution_count": 129,
   "metadata": {},
   "outputs": [
    {
     "data": {
      "text/html": [
       "<div>\n",
       "<style scoped>\n",
       "    .dataframe tbody tr th:only-of-type {\n",
       "        vertical-align: middle;\n",
       "    }\n",
       "\n",
       "    .dataframe tbody tr th {\n",
       "        vertical-align: top;\n",
       "    }\n",
       "\n",
       "    .dataframe thead th {\n",
       "        text-align: right;\n",
       "    }\n",
       "</style>\n",
       "<table border=\"1\" class=\"dataframe\">\n",
       "  <thead>\n",
       "    <tr style=\"text-align: right;\">\n",
       "      <th></th>\n",
       "      <th>client_id</th>\n",
       "      <th>sex</th>\n",
       "      <th>birth</th>\n",
       "    </tr>\n",
       "  </thead>\n",
       "  <tbody>\n",
       "    <tr>\n",
       "      <th>0</th>\n",
       "      <td>c_4410</td>\n",
       "      <td>f</td>\n",
       "      <td>1967</td>\n",
       "    </tr>\n",
       "    <tr>\n",
       "      <th>1</th>\n",
       "      <td>c_7839</td>\n",
       "      <td>f</td>\n",
       "      <td>1975</td>\n",
       "    </tr>\n",
       "    <tr>\n",
       "      <th>2</th>\n",
       "      <td>c_1699</td>\n",
       "      <td>f</td>\n",
       "      <td>1984</td>\n",
       "    </tr>\n",
       "    <tr>\n",
       "      <th>3</th>\n",
       "      <td>c_5961</td>\n",
       "      <td>f</td>\n",
       "      <td>1962</td>\n",
       "    </tr>\n",
       "    <tr>\n",
       "      <th>4</th>\n",
       "      <td>c_5320</td>\n",
       "      <td>m</td>\n",
       "      <td>1943</td>\n",
       "    </tr>\n",
       "  </tbody>\n",
       "</table>\n",
       "</div>"
      ],
      "text/plain": [
       "  client_id sex  birth\n",
       "0    c_4410   f   1967\n",
       "1    c_7839   f   1975\n",
       "2    c_1699   f   1984\n",
       "3    c_5961   f   1962\n",
       "4    c_5320   m   1943"
      ]
     },
     "execution_count": 129,
     "metadata": {},
     "output_type": "execute_result"
    }
   ],
   "source": [
    "customers['birth'] = pd.DatetimeIndex(customers['birth']).year  \n",
    "customers.head()"
   ]
  },
  {
   "cell_type": "markdown",
   "metadata": {},
   "source": [
    "Nous calculons l'age des clients au moment de leurs inscriptions sur le site :"
   ]
  },
  {
   "cell_type": "code",
   "execution_count": 130,
   "metadata": {},
   "outputs": [],
   "source": [
    "customers['age'] = 2022 - customers['birth']"
   ]
  },
  {
   "cell_type": "markdown",
   "metadata": {},
   "source": [
    "On vérifie le contenue de la colonne \"sex\" :"
   ]
  },
  {
   "cell_type": "code",
   "execution_count": 131,
   "metadata": {},
   "outputs": [
    {
     "data": {
      "text/plain": [
       "f    4491\n",
       "m    4132\n",
       "Name: sex, dtype: int64"
      ]
     },
     "execution_count": 131,
     "metadata": {},
     "output_type": "execute_result"
    }
   ],
   "source": [
    "customers['sex'].value_counts()"
   ]
  },
  {
   "cell_type": "markdown",
   "metadata": {},
   "source": [
    "Comme attendu la série ne contient que les valeurs \"f\" ou \"m\"."
   ]
  },
  {
   "cell_type": "markdown",
   "metadata": {},
   "source": [
    "On s'intéresse désormais à l'age des clients"
   ]
  },
  {
   "cell_type": "code",
   "execution_count": 132,
   "metadata": {},
   "outputs": [
    {
     "data": {
      "text/plain": [
       "count    8623.000000\n",
       "mean       43.719123\n",
       "std        16.919535\n",
       "min        18.000000\n",
       "25%        30.000000\n",
       "50%        43.000000\n",
       "75%        56.000000\n",
       "max        93.000000\n",
       "Name: age, dtype: float64"
      ]
     },
     "execution_count": 132,
     "metadata": {},
     "output_type": "execute_result"
    }
   ],
   "source": [
    "customers['age'].describe()"
   ]
  },
  {
   "cell_type": "markdown",
   "metadata": {},
   "source": [
    "On ne constate pas d'ouliers."
   ]
  },
  {
   "cell_type": "code",
   "execution_count": 133,
   "metadata": {},
   "outputs": [
    {
     "data": {
      "text/html": [
       "<div>\n",
       "<style scoped>\n",
       "    .dataframe tbody tr th:only-of-type {\n",
       "        vertical-align: middle;\n",
       "    }\n",
       "\n",
       "    .dataframe tbody tr th {\n",
       "        vertical-align: top;\n",
       "    }\n",
       "\n",
       "    .dataframe thead th {\n",
       "        text-align: right;\n",
       "    }\n",
       "</style>\n",
       "<table border=\"1\" class=\"dataframe\">\n",
       "  <thead>\n",
       "    <tr style=\"text-align: right;\">\n",
       "      <th></th>\n",
       "      <th>client_id</th>\n",
       "      <th>sex</th>\n",
       "      <th>birth</th>\n",
       "      <th>age</th>\n",
       "    </tr>\n",
       "  </thead>\n",
       "  <tbody>\n",
       "    <tr>\n",
       "      <th>0</th>\n",
       "      <td>c_4410</td>\n",
       "      <td>f</td>\n",
       "      <td>1967</td>\n",
       "      <td>55</td>\n",
       "    </tr>\n",
       "    <tr>\n",
       "      <th>1</th>\n",
       "      <td>c_7839</td>\n",
       "      <td>f</td>\n",
       "      <td>1975</td>\n",
       "      <td>47</td>\n",
       "    </tr>\n",
       "    <tr>\n",
       "      <th>2</th>\n",
       "      <td>c_1699</td>\n",
       "      <td>f</td>\n",
       "      <td>1984</td>\n",
       "      <td>38</td>\n",
       "    </tr>\n",
       "    <tr>\n",
       "      <th>3</th>\n",
       "      <td>c_5961</td>\n",
       "      <td>f</td>\n",
       "      <td>1962</td>\n",
       "      <td>60</td>\n",
       "    </tr>\n",
       "    <tr>\n",
       "      <th>4</th>\n",
       "      <td>c_5320</td>\n",
       "      <td>m</td>\n",
       "      <td>1943</td>\n",
       "      <td>79</td>\n",
       "    </tr>\n",
       "  </tbody>\n",
       "</table>\n",
       "</div>"
      ],
      "text/plain": [
       "  client_id sex  birth  age\n",
       "0    c_4410   f   1967   55\n",
       "1    c_7839   f   1975   47\n",
       "2    c_1699   f   1984   38\n",
       "3    c_5961   f   1962   60\n",
       "4    c_5320   m   1943   79"
      ]
     },
     "execution_count": 133,
     "metadata": {},
     "output_type": "execute_result"
    }
   ],
   "source": [
    "customers.head()"
   ]
  },
  {
   "cell_type": "markdown",
   "metadata": {},
   "source": [
    "#### b. La table products"
   ]
  },
  {
   "cell_type": "code",
   "execution_count": 134,
   "metadata": {},
   "outputs": [
    {
     "data": {
      "text/html": [
       "<div>\n",
       "<style scoped>\n",
       "    .dataframe tbody tr th:only-of-type {\n",
       "        vertical-align: middle;\n",
       "    }\n",
       "\n",
       "    .dataframe tbody tr th {\n",
       "        vertical-align: top;\n",
       "    }\n",
       "\n",
       "    .dataframe thead th {\n",
       "        text-align: right;\n",
       "    }\n",
       "</style>\n",
       "<table border=\"1\" class=\"dataframe\">\n",
       "  <thead>\n",
       "    <tr style=\"text-align: right;\">\n",
       "      <th></th>\n",
       "      <th>id_prod</th>\n",
       "      <th>price</th>\n",
       "      <th>categ</th>\n",
       "    </tr>\n",
       "  </thead>\n",
       "  <tbody>\n",
       "    <tr>\n",
       "      <th>0</th>\n",
       "      <td>0_1421</td>\n",
       "      <td>19.99</td>\n",
       "      <td>0</td>\n",
       "    </tr>\n",
       "    <tr>\n",
       "      <th>1</th>\n",
       "      <td>0_1368</td>\n",
       "      <td>5.13</td>\n",
       "      <td>0</td>\n",
       "    </tr>\n",
       "    <tr>\n",
       "      <th>2</th>\n",
       "      <td>0_731</td>\n",
       "      <td>17.99</td>\n",
       "      <td>0</td>\n",
       "    </tr>\n",
       "    <tr>\n",
       "      <th>3</th>\n",
       "      <td>1_587</td>\n",
       "      <td>4.99</td>\n",
       "      <td>1</td>\n",
       "    </tr>\n",
       "    <tr>\n",
       "      <th>4</th>\n",
       "      <td>0_1507</td>\n",
       "      <td>3.99</td>\n",
       "      <td>0</td>\n",
       "    </tr>\n",
       "  </tbody>\n",
       "</table>\n",
       "</div>"
      ],
      "text/plain": [
       "  id_prod  price  categ\n",
       "0  0_1421  19.99      0\n",
       "1  0_1368   5.13      0\n",
       "2   0_731  17.99      0\n",
       "3   1_587   4.99      1\n",
       "4  0_1507   3.99      0"
      ]
     },
     "execution_count": 134,
     "metadata": {},
     "output_type": "execute_result"
    }
   ],
   "source": [
    "products.head()"
   ]
  },
  {
   "cell_type": "markdown",
   "metadata": {},
   "source": [
    "La table products nous donne l'identifiant des produits, leurs prix et la catégorie de chaque produit. \n",
    "L'aperçu de la table ci-dessus nous laisse entrevoir que le premier chiffer de l'identifiant du produit correspond à celui de la catégorie du produit.\n",
    "Nous le vérifions : "
   ]
  },
  {
   "cell_type": "markdown",
   "metadata": {},
   "source": [
    "Nous créons la colonne `verif` qui contient le premier `string` de la colonne `id_prod` pour chaque ligne afin de voir si le permier chiffre de l'id_prod correspond à la colonne categ : "
   ]
  },
  {
   "cell_type": "code",
   "execution_count": 135,
   "metadata": {},
   "outputs": [],
   "source": [
    "products['verif'] = products['id_prod'].str[0]"
   ]
  },
  {
   "cell_type": "markdown",
   "metadata": {},
   "source": [
    "Pour vérifier la correspondance, nous devons convertir en `int` les colonnes concernées. \n",
    "Au moins une ligne ne peut pas être convertie en `int64` car il y a un `T`."
   ]
  },
  {
   "cell_type": "code",
   "execution_count": 136,
   "metadata": {},
   "outputs": [
    {
     "data": {
      "text/plain": [
       "731    T\n",
       "Name: verif, dtype: object"
      ]
     },
     "execution_count": 136,
     "metadata": {},
     "output_type": "execute_result"
    }
   ],
   "source": [
    "products['verif'].loc[products['verif'] == 'T']"
   ]
  },
  {
   "cell_type": "code",
   "execution_count": 137,
   "metadata": {},
   "outputs": [
    {
     "data": {
      "text/plain": [
       "id_prod    T_0\n",
       "price       -1\n",
       "categ        0\n",
       "verif        T\n",
       "Name: 731, dtype: object"
      ]
     },
     "execution_count": 137,
     "metadata": {},
     "output_type": "execute_result"
    }
   ],
   "source": [
    "products.iloc[731]"
   ]
  },
  {
   "cell_type": "markdown",
   "metadata": {},
   "source": [
    "La ligne 731 présente des anomalies, le `string` `T` et un prix négatif pour la produit correspondant. \n",
    "Nous pouvons donc comparer le nombre de ligne avant et après avoir retiré les données anormales : "
   ]
  },
  {
   "cell_type": "code",
   "execution_count": 138,
   "metadata": {},
   "outputs": [
    {
     "data": {
      "text/plain": [
       "(3287, 4)"
      ]
     },
     "execution_count": 138,
     "metadata": {},
     "output_type": "execute_result"
    }
   ],
   "source": [
    "products.shape"
   ]
  },
  {
   "cell_type": "code",
   "execution_count": 139,
   "metadata": {},
   "outputs": [
    {
     "data": {
      "text/plain": [
       "(3286, 4)"
      ]
     },
     "execution_count": 139,
     "metadata": {},
     "output_type": "execute_result"
    }
   ],
   "source": [
    "products = products.loc[products['verif'] != 'T'] # restriction pour retirer les lignes avec T \n",
    "products = products.reset_index(drop = True)\n",
    "products[['verif']] = products[['verif']].astype(np.int64) # transformation de la colonne verif en int64 pour pouvoir la comparer avec la colonne categ\n",
    "products.loc[products['verif'] == products['categ']].shape # restriction visant à ne garder que les lignes pour lesquels les colonnes verif et categ sont égales\n"
   ]
  },
  {
   "cell_type": "markdown",
   "metadata": {},
   "source": [
    "La seule ligne perdue est celle supprimée, les colonnes \"verif\" et \"categ\" correspondent donc bien. \n",
    "Nous avons désormais la certitude que le premier chiffre de chaque ligne de la colonne `id_prod` est égale au chiffre de la colonne `categ` de la même ligne."
   ]
  },
  {
   "cell_type": "code",
   "execution_count": 140,
   "metadata": {},
   "outputs": [
    {
     "data": {
      "text/html": [
       "<div>\n",
       "<style scoped>\n",
       "    .dataframe tbody tr th:only-of-type {\n",
       "        vertical-align: middle;\n",
       "    }\n",
       "\n",
       "    .dataframe tbody tr th {\n",
       "        vertical-align: top;\n",
       "    }\n",
       "\n",
       "    .dataframe thead th {\n",
       "        text-align: right;\n",
       "    }\n",
       "</style>\n",
       "<table border=\"1\" class=\"dataframe\">\n",
       "  <thead>\n",
       "    <tr style=\"text-align: right;\">\n",
       "      <th></th>\n",
       "      <th>id_prod</th>\n",
       "      <th>price</th>\n",
       "      <th>categ</th>\n",
       "      <th>verif</th>\n",
       "    </tr>\n",
       "  </thead>\n",
       "  <tbody>\n",
       "  </tbody>\n",
       "</table>\n",
       "</div>"
      ],
      "text/plain": [
       "Empty DataFrame\n",
       "Columns: [id_prod, price, categ, verif]\n",
       "Index: []"
      ]
     },
     "execution_count": 140,
     "metadata": {},
     "output_type": "execute_result"
    }
   ],
   "source": [
    "products.loc[products['price'] < 0]"
   ]
  },
  {
   "cell_type": "markdown",
   "metadata": {},
   "source": [
    "Il n'y a pas d'autres prix négatif."
   ]
  },
  {
   "cell_type": "code",
   "execution_count": 141,
   "metadata": {},
   "outputs": [],
   "source": [
    "products = products[['id_prod', 'price', 'categ']] # retrait de la colonne verif"
   ]
  },
  {
   "cell_type": "code",
   "execution_count": 142,
   "metadata": {},
   "outputs": [
    {
     "data": {
      "text/plain": [
       "count    3286.000000\n",
       "mean       21.863597\n",
       "std        29.849786\n",
       "min         0.620000\n",
       "25%         6.990000\n",
       "50%        13.075000\n",
       "75%        22.990000\n",
       "max       300.000000\n",
       "Name: price, dtype: float64"
      ]
     },
     "execution_count": 142,
     "metadata": {},
     "output_type": "execute_result"
    }
   ],
   "source": [
    "products['price'].describe()"
   ]
  },
  {
   "cell_type": "markdown",
   "metadata": {},
   "source": [
    "On ne constate pas d'ouliers. "
   ]
  },
  {
   "cell_type": "markdown",
   "metadata": {},
   "source": [
    "Nous vérifions les différentes catégories de produits exitantes : "
   ]
  },
  {
   "cell_type": "code",
   "execution_count": 143,
   "metadata": {},
   "outputs": [
    {
     "data": {
      "text/plain": [
       "0    2308\n",
       "1     739\n",
       "2     239\n",
       "Name: categ, dtype: int64"
      ]
     },
     "execution_count": 143,
     "metadata": {},
     "output_type": "execute_result"
    }
   ],
   "source": [
    "products['categ'].value_counts()"
   ]
  },
  {
   "cell_type": "markdown",
   "metadata": {},
   "source": [
    "#### c. La table association"
   ]
  },
  {
   "cell_type": "code",
   "execution_count": 144,
   "metadata": {},
   "outputs": [
    {
     "data": {
      "text/html": [
       "<div>\n",
       "<style scoped>\n",
       "    .dataframe tbody tr th:only-of-type {\n",
       "        vertical-align: middle;\n",
       "    }\n",
       "\n",
       "    .dataframe tbody tr th {\n",
       "        vertical-align: top;\n",
       "    }\n",
       "\n",
       "    .dataframe thead th {\n",
       "        text-align: right;\n",
       "    }\n",
       "</style>\n",
       "<table border=\"1\" class=\"dataframe\">\n",
       "  <thead>\n",
       "    <tr style=\"text-align: right;\">\n",
       "      <th></th>\n",
       "      <th>id_prod</th>\n",
       "      <th>date</th>\n",
       "      <th>session_id</th>\n",
       "      <th>client_id</th>\n",
       "    </tr>\n",
       "  </thead>\n",
       "  <tbody>\n",
       "    <tr>\n",
       "      <th>0</th>\n",
       "      <td>0_1483</td>\n",
       "      <td>2021-04-10 18:37:28.723910</td>\n",
       "      <td>s_18746</td>\n",
       "      <td>c_4450</td>\n",
       "    </tr>\n",
       "    <tr>\n",
       "      <th>1</th>\n",
       "      <td>2_226</td>\n",
       "      <td>2022-02-03 01:55:53.276402</td>\n",
       "      <td>s_159142</td>\n",
       "      <td>c_277</td>\n",
       "    </tr>\n",
       "    <tr>\n",
       "      <th>2</th>\n",
       "      <td>1_374</td>\n",
       "      <td>2021-09-23 15:13:46.938559</td>\n",
       "      <td>s_94290</td>\n",
       "      <td>c_4270</td>\n",
       "    </tr>\n",
       "    <tr>\n",
       "      <th>3</th>\n",
       "      <td>0_2186</td>\n",
       "      <td>2021-10-17 03:27:18.783634</td>\n",
       "      <td>s_105936</td>\n",
       "      <td>c_4597</td>\n",
       "    </tr>\n",
       "    <tr>\n",
       "      <th>4</th>\n",
       "      <td>0_1351</td>\n",
       "      <td>2021-07-17 20:34:25.800563</td>\n",
       "      <td>s_63642</td>\n",
       "      <td>c_1242</td>\n",
       "    </tr>\n",
       "  </tbody>\n",
       "</table>\n",
       "</div>"
      ],
      "text/plain": [
       "  id_prod                        date session_id client_id\n",
       "0  0_1483  2021-04-10 18:37:28.723910    s_18746    c_4450\n",
       "1   2_226  2022-02-03 01:55:53.276402   s_159142     c_277\n",
       "2   1_374  2021-09-23 15:13:46.938559    s_94290    c_4270\n",
       "3  0_2186  2021-10-17 03:27:18.783634   s_105936    c_4597\n",
       "4  0_1351  2021-07-17 20:34:25.800563    s_63642    c_1242"
      ]
     },
     "execution_count": 144,
     "metadata": {},
     "output_type": "execute_result"
    }
   ],
   "source": [
    "association.head()"
   ]
  },
  {
   "cell_type": "markdown",
   "metadata": {},
   "source": [
    "Cette table est une table d'association pour les deux autres tables vus précédement. Elle permet de mettre en rapport les clients avec les produit et ajoute un identifiant de session ainsi qu'une date de transaction. "
   ]
  },
  {
   "cell_type": "markdown",
   "metadata": {},
   "source": [
    "Nous vérifions à quoi correspond l'`id_prod` `T_0` dans cette table d'associaton car elle semblait porteuse d'anomalies : "
   ]
  },
  {
   "cell_type": "code",
   "execution_count": 145,
   "metadata": {},
   "outputs": [
    {
     "data": {
      "text/html": [
       "<div>\n",
       "<style scoped>\n",
       "    .dataframe tbody tr th:only-of-type {\n",
       "        vertical-align: middle;\n",
       "    }\n",
       "\n",
       "    .dataframe tbody tr th {\n",
       "        vertical-align: top;\n",
       "    }\n",
       "\n",
       "    .dataframe thead th {\n",
       "        text-align: right;\n",
       "    }\n",
       "</style>\n",
       "<table border=\"1\" class=\"dataframe\">\n",
       "  <thead>\n",
       "    <tr style=\"text-align: right;\">\n",
       "      <th></th>\n",
       "      <th>id_prod</th>\n",
       "      <th>date</th>\n",
       "      <th>session_id</th>\n",
       "      <th>client_id</th>\n",
       "    </tr>\n",
       "  </thead>\n",
       "  <tbody>\n",
       "    <tr>\n",
       "      <th>1431</th>\n",
       "      <td>T_0</td>\n",
       "      <td>test_2021-03-01 02:30:02.237420</td>\n",
       "      <td>s_0</td>\n",
       "      <td>ct_1</td>\n",
       "    </tr>\n",
       "    <tr>\n",
       "      <th>2365</th>\n",
       "      <td>T_0</td>\n",
       "      <td>test_2021-03-01 02:30:02.237446</td>\n",
       "      <td>s_0</td>\n",
       "      <td>ct_1</td>\n",
       "    </tr>\n",
       "    <tr>\n",
       "      <th>2895</th>\n",
       "      <td>T_0</td>\n",
       "      <td>test_2021-03-01 02:30:02.237414</td>\n",
       "      <td>s_0</td>\n",
       "      <td>ct_1</td>\n",
       "    </tr>\n",
       "    <tr>\n",
       "      <th>5955</th>\n",
       "      <td>T_0</td>\n",
       "      <td>test_2021-03-01 02:30:02.237441</td>\n",
       "      <td>s_0</td>\n",
       "      <td>ct_0</td>\n",
       "    </tr>\n",
       "    <tr>\n",
       "      <th>7283</th>\n",
       "      <td>T_0</td>\n",
       "      <td>test_2021-03-01 02:30:02.237434</td>\n",
       "      <td>s_0</td>\n",
       "      <td>ct_1</td>\n",
       "    </tr>\n",
       "    <tr>\n",
       "      <th>13745</th>\n",
       "      <td>T_0</td>\n",
       "      <td>test_2021-03-01 02:30:02.237443</td>\n",
       "      <td>s_0</td>\n",
       "      <td>ct_0</td>\n",
       "    </tr>\n",
       "    <tr>\n",
       "      <th>20470</th>\n",
       "      <td>T_0</td>\n",
       "      <td>test_2021-03-01 02:30:02.237442</td>\n",
       "      <td>s_0</td>\n",
       "      <td>ct_0</td>\n",
       "    </tr>\n",
       "    <tr>\n",
       "      <th>22347</th>\n",
       "      <td>T_0</td>\n",
       "      <td>test_2021-03-01 02:30:02.237412</td>\n",
       "      <td>s_0</td>\n",
       "      <td>ct_1</td>\n",
       "    </tr>\n",
       "    <tr>\n",
       "      <th>26359</th>\n",
       "      <td>T_0</td>\n",
       "      <td>test_2021-03-01 02:30:02.237439</td>\n",
       "      <td>s_0</td>\n",
       "      <td>ct_1</td>\n",
       "    </tr>\n",
       "    <tr>\n",
       "      <th>26407</th>\n",
       "      <td>T_0</td>\n",
       "      <td>test_2021-03-01 02:30:02.237426</td>\n",
       "      <td>s_0</td>\n",
       "      <td>ct_0</td>\n",
       "    </tr>\n",
       "  </tbody>\n",
       "</table>\n",
       "</div>"
      ],
      "text/plain": [
       "      id_prod                             date session_id client_id\n",
       "1431      T_0  test_2021-03-01 02:30:02.237420        s_0      ct_1\n",
       "2365      T_0  test_2021-03-01 02:30:02.237446        s_0      ct_1\n",
       "2895      T_0  test_2021-03-01 02:30:02.237414        s_0      ct_1\n",
       "5955      T_0  test_2021-03-01 02:30:02.237441        s_0      ct_0\n",
       "7283      T_0  test_2021-03-01 02:30:02.237434        s_0      ct_1\n",
       "13745     T_0  test_2021-03-01 02:30:02.237443        s_0      ct_0\n",
       "20470     T_0  test_2021-03-01 02:30:02.237442        s_0      ct_0\n",
       "22347     T_0  test_2021-03-01 02:30:02.237412        s_0      ct_1\n",
       "26359     T_0  test_2021-03-01 02:30:02.237439        s_0      ct_1\n",
       "26407     T_0  test_2021-03-01 02:30:02.237426        s_0      ct_0"
      ]
     },
     "execution_count": 145,
     "metadata": {},
     "output_type": "execute_result"
    }
   ],
   "source": [
    "association.loc[association['id_prod'] == 'T_0'].head(10)"
   ]
  },
  {
   "cell_type": "code",
   "execution_count": 146,
   "metadata": {},
   "outputs": [
    {
     "data": {
      "text/plain": [
       "(200, 4)"
      ]
     },
     "execution_count": 146,
     "metadata": {},
     "output_type": "execute_result"
    }
   ],
   "source": [
    "association.loc[association['id_prod'] == 'T_0'].shape"
   ]
  },
  {
   "cell_type": "code",
   "execution_count": 147,
   "metadata": {},
   "outputs": [
    {
     "data": {
      "text/plain": [
       "(94, 4)"
      ]
     },
     "execution_count": 147,
     "metadata": {},
     "output_type": "execute_result"
    }
   ],
   "source": [
    "association.loc[association['client_id'] == 'ct_1'].shape"
   ]
  },
  {
   "cell_type": "code",
   "execution_count": 148,
   "metadata": {},
   "outputs": [
    {
     "data": {
      "text/plain": [
       "(106, 4)"
      ]
     },
     "execution_count": 148,
     "metadata": {},
     "output_type": "execute_result"
    }
   ],
   "source": [
    "association.loc[association['client_id'] == 'ct_0'].shape"
   ]
  },
  {
   "cell_type": "code",
   "execution_count": 149,
   "metadata": {},
   "outputs": [
    {
     "data": {
      "text/plain": [
       "(200, 4)"
      ]
     },
     "execution_count": 149,
     "metadata": {},
     "output_type": "execute_result"
    }
   ],
   "source": [
    "association.loc[association['session_id'] == 's_0'].shape"
   ]
  },
  {
   "cell_type": "markdown",
   "metadata": {},
   "source": [
    "Toutes les transactions liées à cet `id_prod` semble uniquement être le fruit de tests. La mention test apparait dans la date en toute lettre. Nous n'aurons pas besoin de ces données, nous les supprimons donc : "
   ]
  },
  {
   "cell_type": "code",
   "execution_count": 150,
   "metadata": {},
   "outputs": [],
   "source": [
    "association = association.loc[association['id_prod'] != 'T_0']\n",
    "association.reset_index(inplace = True, drop = True)"
   ]
  },
  {
   "cell_type": "markdown",
   "metadata": {},
   "source": [
    "Nous vérifions désormais que le fait de supprimer la valeur \"T_0\" de notre table a bien permis de supprimer toutes les valeurs test connues : "
   ]
  },
  {
   "cell_type": "code",
   "execution_count": 151,
   "metadata": {},
   "outputs": [
    {
     "data": {
      "text/html": [
       "<div>\n",
       "<style scoped>\n",
       "    .dataframe tbody tr th:only-of-type {\n",
       "        vertical-align: middle;\n",
       "    }\n",
       "\n",
       "    .dataframe tbody tr th {\n",
       "        vertical-align: top;\n",
       "    }\n",
       "\n",
       "    .dataframe thead th {\n",
       "        text-align: right;\n",
       "    }\n",
       "</style>\n",
       "<table border=\"1\" class=\"dataframe\">\n",
       "  <thead>\n",
       "    <tr style=\"text-align: right;\">\n",
       "      <th></th>\n",
       "      <th>id_prod</th>\n",
       "      <th>date</th>\n",
       "      <th>session_id</th>\n",
       "      <th>client_id</th>\n",
       "    </tr>\n",
       "  </thead>\n",
       "  <tbody>\n",
       "  </tbody>\n",
       "</table>\n",
       "</div>"
      ],
      "text/plain": [
       "Empty DataFrame\n",
       "Columns: [id_prod, date, session_id, client_id]\n",
       "Index: []"
      ]
     },
     "execution_count": 151,
     "metadata": {},
     "output_type": "execute_result"
    }
   ],
   "source": [
    "association.loc[association['id_prod'] == 'T_0'] | association.loc[association['session_id'] == 's_0' ] | association.loc[association['client_id'] == 'ct_0' ] | association.loc[association['client_id'] == 'ct_1' ] | association[association['date'].str.contains('test') == True]\n"
   ]
  },
  {
   "cell_type": "markdown",
   "metadata": {},
   "source": [
    "Les valeurs test connues ont toutes été supprimées."
   ]
  },
  {
   "cell_type": "markdown",
   "metadata": {},
   "source": [
    "Nous vérifions les clefs primaires de nos tables : "
   ]
  },
  {
   "cell_type": "code",
   "execution_count": 152,
   "metadata": {},
   "outputs": [],
   "source": [
    "def primary_key(dataframe,cle_candidate):\n",
    "    if dataframe.dropna(subset=cle_candidate).drop_duplicates(subset=cle_candidate, keep=False).shape == dataframe.shape: \n",
    "        return print('This is a Primary key') \n",
    "    else: \n",
    "        return print('This might help you: https://en.wikipedia.org/wiki/Primary_key')"
   ]
  },
  {
   "cell_type": "code",
   "execution_count": 153,
   "metadata": {},
   "outputs": [
    {
     "name": "stdout",
     "output_type": "stream",
     "text": [
      "This is a Primary key\n"
     ]
    }
   ],
   "source": [
    "primary_key(products,['id_prod'])"
   ]
  },
  {
   "cell_type": "code",
   "execution_count": 154,
   "metadata": {},
   "outputs": [
    {
     "name": "stdout",
     "output_type": "stream",
     "text": [
      "This is a Primary key\n"
     ]
    }
   ],
   "source": [
    "primary_key(customers,['client_id'])"
   ]
  },
  {
   "cell_type": "code",
   "execution_count": 155,
   "metadata": {},
   "outputs": [
    {
     "name": "stdout",
     "output_type": "stream",
     "text": [
      "This is a Primary key\n"
     ]
    }
   ],
   "source": [
    "primary_key(association,['date'])"
   ]
  },
  {
   "cell_type": "markdown",
   "metadata": {},
   "source": [
    "### 3. Jointure des tables, et traitement des NaN"
   ]
  },
  {
   "cell_type": "code",
   "execution_count": 156,
   "metadata": {},
   "outputs": [],
   "source": [
    "transactions = customers.merge(association, how ='outer', on=['client_id'], indicator='merge_1')"
   ]
  },
  {
   "cell_type": "code",
   "execution_count": 157,
   "metadata": {},
   "outputs": [
    {
     "data": {
      "text/html": [
       "<div>\n",
       "<style scoped>\n",
       "    .dataframe tbody tr th:only-of-type {\n",
       "        vertical-align: middle;\n",
       "    }\n",
       "\n",
       "    .dataframe tbody tr th {\n",
       "        vertical-align: top;\n",
       "    }\n",
       "\n",
       "    .dataframe thead th {\n",
       "        text-align: right;\n",
       "    }\n",
       "</style>\n",
       "<table border=\"1\" class=\"dataframe\">\n",
       "  <thead>\n",
       "    <tr style=\"text-align: right;\">\n",
       "      <th></th>\n",
       "      <th>client_id</th>\n",
       "      <th>sex</th>\n",
       "      <th>birth</th>\n",
       "      <th>age</th>\n",
       "      <th>id_prod</th>\n",
       "      <th>date</th>\n",
       "      <th>session_id</th>\n",
       "      <th>merge_1</th>\n",
       "    </tr>\n",
       "  </thead>\n",
       "  <tbody>\n",
       "  </tbody>\n",
       "</table>\n",
       "</div>"
      ],
      "text/plain": [
       "Empty DataFrame\n",
       "Columns: [client_id, sex, birth, age, id_prod, date, session_id, merge_1]\n",
       "Index: []"
      ]
     },
     "execution_count": 157,
     "metadata": {},
     "output_type": "execute_result"
    }
   ],
   "source": [
    "transactions.loc[transactions['merge_1'] == 'right_only'].head()"
   ]
  },
  {
   "cell_type": "code",
   "execution_count": 158,
   "metadata": {},
   "outputs": [
    {
     "data": {
      "text/html": [
       "<div>\n",
       "<style scoped>\n",
       "    .dataframe tbody tr th:only-of-type {\n",
       "        vertical-align: middle;\n",
       "    }\n",
       "\n",
       "    .dataframe tbody tr th {\n",
       "        vertical-align: top;\n",
       "    }\n",
       "\n",
       "    .dataframe thead th {\n",
       "        text-align: right;\n",
       "    }\n",
       "</style>\n",
       "<table border=\"1\" class=\"dataframe\">\n",
       "  <thead>\n",
       "    <tr style=\"text-align: right;\">\n",
       "      <th></th>\n",
       "      <th>client_id</th>\n",
       "      <th>sex</th>\n",
       "      <th>birth</th>\n",
       "      <th>age</th>\n",
       "      <th>id_prod</th>\n",
       "      <th>date</th>\n",
       "      <th>session_id</th>\n",
       "      <th>merge_1</th>\n",
       "    </tr>\n",
       "  </thead>\n",
       "  <tbody>\n",
       "    <tr>\n",
       "      <th>29516</th>\n",
       "      <td>c_8253</td>\n",
       "      <td>f</td>\n",
       "      <td>2001</td>\n",
       "      <td>21</td>\n",
       "      <td>NaN</td>\n",
       "      <td>NaN</td>\n",
       "      <td>NaN</td>\n",
       "      <td>left_only</td>\n",
       "    </tr>\n",
       "    <tr>\n",
       "      <th>99355</th>\n",
       "      <td>c_3789</td>\n",
       "      <td>f</td>\n",
       "      <td>1997</td>\n",
       "      <td>25</td>\n",
       "      <td>NaN</td>\n",
       "      <td>NaN</td>\n",
       "      <td>NaN</td>\n",
       "      <td>left_only</td>\n",
       "    </tr>\n",
       "    <tr>\n",
       "      <th>108189</th>\n",
       "      <td>c_4406</td>\n",
       "      <td>f</td>\n",
       "      <td>1998</td>\n",
       "      <td>24</td>\n",
       "      <td>NaN</td>\n",
       "      <td>NaN</td>\n",
       "      <td>NaN</td>\n",
       "      <td>left_only</td>\n",
       "    </tr>\n",
       "    <tr>\n",
       "      <th>108190</th>\n",
       "      <td>ct_0</td>\n",
       "      <td>f</td>\n",
       "      <td>2001</td>\n",
       "      <td>21</td>\n",
       "      <td>NaN</td>\n",
       "      <td>NaN</td>\n",
       "      <td>NaN</td>\n",
       "      <td>left_only</td>\n",
       "    </tr>\n",
       "    <tr>\n",
       "      <th>109297</th>\n",
       "      <td>c_2706</td>\n",
       "      <td>f</td>\n",
       "      <td>1967</td>\n",
       "      <td>55</td>\n",
       "      <td>NaN</td>\n",
       "      <td>NaN</td>\n",
       "      <td>NaN</td>\n",
       "      <td>left_only</td>\n",
       "    </tr>\n",
       "  </tbody>\n",
       "</table>\n",
       "</div>"
      ],
      "text/plain": [
       "       client_id sex  birth  age id_prod date session_id    merge_1\n",
       "29516     c_8253   f   2001   21     NaN  NaN        NaN  left_only\n",
       "99355     c_3789   f   1997   25     NaN  NaN        NaN  left_only\n",
       "108189    c_4406   f   1998   24     NaN  NaN        NaN  left_only\n",
       "108190      ct_0   f   2001   21     NaN  NaN        NaN  left_only\n",
       "109297    c_2706   f   1967   55     NaN  NaN        NaN  left_only"
      ]
     },
     "execution_count": 158,
     "metadata": {},
     "output_type": "execute_result"
    }
   ],
   "source": [
    "transactions.loc[transactions['merge_1'] == 'left_only'].head()"
   ]
  },
  {
   "cell_type": "markdown",
   "metadata": {},
   "source": [
    "Nous constatons que des clients n'ont aucune transaction à ce jour, il nous faut déterminer la part de client inactif sur le portefeuille total : "
   ]
  },
  {
   "cell_type": "code",
   "execution_count": 159,
   "metadata": {},
   "outputs": [
    {
     "data": {
      "text/plain": [
       "23"
      ]
     },
     "execution_count": 159,
     "metadata": {},
     "output_type": "execute_result"
    }
   ],
   "source": [
    "transactions.loc[transactions['merge_1'] == 'left_only'].shape[0]"
   ]
  },
  {
   "cell_type": "code",
   "execution_count": 160,
   "metadata": {},
   "outputs": [
    {
     "data": {
      "text/plain": [
       "0.0068"
      ]
     },
     "execution_count": 160,
     "metadata": {},
     "output_type": "execute_result"
    }
   ],
   "source": [
    "round(100 * transactions.loc[transactions['merge_1'] == 'left_only'].shape[0] / transactions.shape[0],4)"
   ]
  },
  {
   "cell_type": "markdown",
   "metadata": {},
   "source": [
    "Le pourcentage de client inactif est négligable, nous pouvons donc retirer de notre table ces clients :"
   ]
  },
  {
   "cell_type": "code",
   "execution_count": 161,
   "metadata": {},
   "outputs": [],
   "source": [
    "transactions = transactions.loc[transactions['merge_1'] != 'left_only']"
   ]
  },
  {
   "cell_type": "markdown",
   "metadata": {},
   "source": [
    "Nous procédons désormais à la jointure avec la table products : "
   ]
  },
  {
   "cell_type": "code",
   "execution_count": 162,
   "metadata": {},
   "outputs": [],
   "source": [
    "transactions = transactions.merge(products, how ='outer', on=['id_prod'], indicator='merge_2')\n",
    "transactions.reset_index(drop=True, inplace=True)"
   ]
  },
  {
   "cell_type": "code",
   "execution_count": 163,
   "metadata": {},
   "outputs": [
    {
     "data": {
      "text/html": [
       "<div>\n",
       "<style scoped>\n",
       "    .dataframe tbody tr th:only-of-type {\n",
       "        vertical-align: middle;\n",
       "    }\n",
       "\n",
       "    .dataframe tbody tr th {\n",
       "        vertical-align: top;\n",
       "    }\n",
       "\n",
       "    .dataframe thead th {\n",
       "        text-align: right;\n",
       "    }\n",
       "</style>\n",
       "<table border=\"1\" class=\"dataframe\">\n",
       "  <thead>\n",
       "    <tr style=\"text-align: right;\">\n",
       "      <th></th>\n",
       "      <th>client_id</th>\n",
       "      <th>sex</th>\n",
       "      <th>birth</th>\n",
       "      <th>age</th>\n",
       "      <th>id_prod</th>\n",
       "      <th>date</th>\n",
       "      <th>session_id</th>\n",
       "      <th>merge_1</th>\n",
       "      <th>price</th>\n",
       "      <th>categ</th>\n",
       "      <th>merge_2</th>\n",
       "    </tr>\n",
       "  </thead>\n",
       "  <tbody>\n",
       "    <tr>\n",
       "      <th>266960</th>\n",
       "      <td>c_4505</td>\n",
       "      <td>m</td>\n",
       "      <td>1976.0</td>\n",
       "      <td>46.0</td>\n",
       "      <td>0_2245</td>\n",
       "      <td>2022-01-09 09:23:31.000720</td>\n",
       "      <td>s_147220</td>\n",
       "      <td>both</td>\n",
       "      <td>NaN</td>\n",
       "      <td>NaN</td>\n",
       "      <td>left_only</td>\n",
       "    </tr>\n",
       "    <tr>\n",
       "      <th>266961</th>\n",
       "      <td>c_3468</td>\n",
       "      <td>f</td>\n",
       "      <td>1981.0</td>\n",
       "      <td>41.0</td>\n",
       "      <td>0_2245</td>\n",
       "      <td>2021-09-11 10:52:05.205583</td>\n",
       "      <td>s_88251</td>\n",
       "      <td>both</td>\n",
       "      <td>NaN</td>\n",
       "      <td>NaN</td>\n",
       "      <td>left_only</td>\n",
       "    </tr>\n",
       "    <tr>\n",
       "      <th>266962</th>\n",
       "      <td>c_1403</td>\n",
       "      <td>f</td>\n",
       "      <td>1978.0</td>\n",
       "      <td>44.0</td>\n",
       "      <td>0_2245</td>\n",
       "      <td>2022-02-15 14:26:50.187952</td>\n",
       "      <td>s_165575</td>\n",
       "      <td>both</td>\n",
       "      <td>NaN</td>\n",
       "      <td>NaN</td>\n",
       "      <td>left_only</td>\n",
       "    </tr>\n",
       "    <tr>\n",
       "      <th>266963</th>\n",
       "      <td>c_3065</td>\n",
       "      <td>f</td>\n",
       "      <td>1977.0</td>\n",
       "      <td>45.0</td>\n",
       "      <td>0_2245</td>\n",
       "      <td>2022-01-26 13:34:33.440366</td>\n",
       "      <td>s_155484</td>\n",
       "      <td>both</td>\n",
       "      <td>NaN</td>\n",
       "      <td>NaN</td>\n",
       "      <td>left_only</td>\n",
       "    </tr>\n",
       "    <tr>\n",
       "      <th>266964</th>\n",
       "      <td>c_7102</td>\n",
       "      <td>m</td>\n",
       "      <td>1983.0</td>\n",
       "      <td>39.0</td>\n",
       "      <td>0_2245</td>\n",
       "      <td>2021-04-25 19:58:42.716401</td>\n",
       "      <td>s_25704</td>\n",
       "      <td>both</td>\n",
       "      <td>NaN</td>\n",
       "      <td>NaN</td>\n",
       "      <td>left_only</td>\n",
       "    </tr>\n",
       "  </tbody>\n",
       "</table>\n",
       "</div>"
      ],
      "text/plain": [
       "       client_id sex   birth   age id_prod                        date  \\\n",
       "266960    c_4505   m  1976.0  46.0  0_2245  2022-01-09 09:23:31.000720   \n",
       "266961    c_3468   f  1981.0  41.0  0_2245  2021-09-11 10:52:05.205583   \n",
       "266962    c_1403   f  1978.0  44.0  0_2245  2022-02-15 14:26:50.187952   \n",
       "266963    c_3065   f  1977.0  45.0  0_2245  2022-01-26 13:34:33.440366   \n",
       "266964    c_7102   m  1983.0  39.0  0_2245  2021-04-25 19:58:42.716401   \n",
       "\n",
       "       session_id merge_1  price  categ    merge_2  \n",
       "266960   s_147220    both    NaN    NaN  left_only  \n",
       "266961    s_88251    both    NaN    NaN  left_only  \n",
       "266962   s_165575    both    NaN    NaN  left_only  \n",
       "266963   s_155484    both    NaN    NaN  left_only  \n",
       "266964    s_25704    both    NaN    NaN  left_only  "
      ]
     },
     "execution_count": 163,
     "metadata": {},
     "output_type": "execute_result"
    }
   ],
   "source": [
    "transactions.loc[transactions['merge_2'] == 'left_only'].head()"
   ]
  },
  {
   "cell_type": "markdown",
   "metadata": {},
   "source": [
    "Le produit 0_2245 n'a pas de prix.\n",
    "Nous allons lui en imputer un en nous basant sur certains indicateurs.\n",
    "L'identifiant du produit nous permet de déterminer que la catégorie du produit est \"0\".\n",
    "Nous commençons par calculer le chiffre d'affaire de notre entreprise pour vérifier que le l'impacte de notre imputation est négligeable :"
   ]
  },
  {
   "cell_type": "code",
   "execution_count": 164,
   "metadata": {},
   "outputs": [
    {
     "data": {
      "text/plain": [
       "336735"
      ]
     },
     "execution_count": 164,
     "metadata": {},
     "output_type": "execute_result"
    }
   ],
   "source": [
    "ancien_CA = transactions['price'].count()\n",
    "ancien_CA"
   ]
  },
  {
   "cell_type": "code",
   "execution_count": 165,
   "metadata": {},
   "outputs": [
    {
     "data": {
      "text/html": [
       "<div>\n",
       "<style scoped>\n",
       "    .dataframe tbody tr th:only-of-type {\n",
       "        vertical-align: middle;\n",
       "    }\n",
       "\n",
       "    .dataframe tbody tr th {\n",
       "        vertical-align: top;\n",
       "    }\n",
       "\n",
       "    .dataframe thead th {\n",
       "        text-align: right;\n",
       "    }\n",
       "</style>\n",
       "<table border=\"1\" class=\"dataframe\">\n",
       "  <thead>\n",
       "    <tr style=\"text-align: right;\">\n",
       "      <th></th>\n",
       "      <th>birth</th>\n",
       "      <th>age</th>\n",
       "      <th>price</th>\n",
       "      <th>categ</th>\n",
       "    </tr>\n",
       "  </thead>\n",
       "  <tbody>\n",
       "    <tr>\n",
       "      <th>count</th>\n",
       "      <td>209426.000000</td>\n",
       "      <td>209426.000000</td>\n",
       "      <td>209443.000000</td>\n",
       "      <td>209443.0</td>\n",
       "    </tr>\n",
       "    <tr>\n",
       "      <th>mean</th>\n",
       "      <td>1978.102280</td>\n",
       "      <td>43.897720</td>\n",
       "      <td>10.647072</td>\n",
       "      <td>0.0</td>\n",
       "    </tr>\n",
       "    <tr>\n",
       "      <th>std</th>\n",
       "      <td>11.203684</td>\n",
       "      <td>11.203684</td>\n",
       "      <td>4.930949</td>\n",
       "      <td>0.0</td>\n",
       "    </tr>\n",
       "    <tr>\n",
       "      <th>min</th>\n",
       "      <td>1929.000000</td>\n",
       "      <td>18.000000</td>\n",
       "      <td>0.620000</td>\n",
       "      <td>0.0</td>\n",
       "    </tr>\n",
       "    <tr>\n",
       "      <th>25%</th>\n",
       "      <td>1974.000000</td>\n",
       "      <td>36.000000</td>\n",
       "      <td>6.300000</td>\n",
       "      <td>0.0</td>\n",
       "    </tr>\n",
       "    <tr>\n",
       "      <th>50%</th>\n",
       "      <td>1980.000000</td>\n",
       "      <td>42.000000</td>\n",
       "      <td>9.990000</td>\n",
       "      <td>0.0</td>\n",
       "    </tr>\n",
       "    <tr>\n",
       "      <th>75%</th>\n",
       "      <td>1986.000000</td>\n",
       "      <td>48.000000</td>\n",
       "      <td>14.450000</td>\n",
       "      <td>0.0</td>\n",
       "    </tr>\n",
       "    <tr>\n",
       "      <th>max</th>\n",
       "      <td>2004.000000</td>\n",
       "      <td>93.000000</td>\n",
       "      <td>40.990000</td>\n",
       "      <td>0.0</td>\n",
       "    </tr>\n",
       "  </tbody>\n",
       "</table>\n",
       "</div>"
      ],
      "text/plain": [
       "               birth            age          price     categ\n",
       "count  209426.000000  209426.000000  209443.000000  209443.0\n",
       "mean     1978.102280      43.897720      10.647072       0.0\n",
       "std        11.203684      11.203684       4.930949       0.0\n",
       "min      1929.000000      18.000000       0.620000       0.0\n",
       "25%      1974.000000      36.000000       6.300000       0.0\n",
       "50%      1980.000000      42.000000       9.990000       0.0\n",
       "75%      1986.000000      48.000000      14.450000       0.0\n",
       "max      2004.000000      93.000000      40.990000       0.0"
      ]
     },
     "execution_count": 165,
     "metadata": {},
     "output_type": "execute_result"
    }
   ],
   "source": [
    "transactions.loc[transactions['categ'] == 0].describe()"
   ]
  },
  {
   "cell_type": "markdown",
   "metadata": {},
   "source": [
    "Il y a peu de dispertion dans cette distribution, nous pouvons indiférament choisir comme valeur pour l'imputation la moyenne ou la médiane, nous choisirons la moyenne arrondie aux centièmes comme il n'y a pas d'_outliers_. "
   ]
  },
  {
   "cell_type": "code",
   "execution_count": 166,
   "metadata": {},
   "outputs": [],
   "source": [
    "transactions['price'] = transactions['price'].fillna(10.65)\n",
    "transactions['categ'] = transactions['categ'].fillna(0).astype('int64')"
   ]
  },
  {
   "cell_type": "markdown",
   "metadata": {},
   "source": [
    "Nous pouvons désormais calculer la variation de chiffre d'affaire liée à cette imputation : "
   ]
  },
  {
   "cell_type": "code",
   "execution_count": 167,
   "metadata": {},
   "outputs": [
    {
     "data": {
      "text/plain": [
       "0.03"
      ]
     },
     "execution_count": 167,
     "metadata": {},
     "output_type": "execute_result"
    }
   ],
   "source": [
    "round(100 * transactions['price'].loc[transactions['id_prod'] == '0_2245'].count() / ancien_CA,2)"
   ]
  },
  {
   "cell_type": "markdown",
   "metadata": {},
   "source": [
    "La variation de chiffre d'affaire liée à cette imputation est négligeable. "
   ]
  },
  {
   "cell_type": "code",
   "execution_count": 168,
   "metadata": {},
   "outputs": [
    {
     "data": {
      "text/html": [
       "<div>\n",
       "<style scoped>\n",
       "    .dataframe tbody tr th:only-of-type {\n",
       "        vertical-align: middle;\n",
       "    }\n",
       "\n",
       "    .dataframe tbody tr th {\n",
       "        vertical-align: top;\n",
       "    }\n",
       "\n",
       "    .dataframe thead th {\n",
       "        text-align: right;\n",
       "    }\n",
       "</style>\n",
       "<table border=\"1\" class=\"dataframe\">\n",
       "  <thead>\n",
       "    <tr style=\"text-align: right;\">\n",
       "      <th></th>\n",
       "      <th>client_id</th>\n",
       "      <th>sex</th>\n",
       "      <th>birth</th>\n",
       "      <th>age</th>\n",
       "      <th>id_prod</th>\n",
       "      <th>date</th>\n",
       "      <th>session_id</th>\n",
       "      <th>merge_1</th>\n",
       "      <th>price</th>\n",
       "      <th>categ</th>\n",
       "      <th>merge_2</th>\n",
       "    </tr>\n",
       "  </thead>\n",
       "  <tbody>\n",
       "    <tr>\n",
       "      <th>336816</th>\n",
       "      <td>NaN</td>\n",
       "      <td>NaN</td>\n",
       "      <td>NaN</td>\n",
       "      <td>NaN</td>\n",
       "      <td>0_1016</td>\n",
       "      <td>NaN</td>\n",
       "      <td>NaN</td>\n",
       "      <td>NaN</td>\n",
       "      <td>35.06</td>\n",
       "      <td>0</td>\n",
       "      <td>right_only</td>\n",
       "    </tr>\n",
       "    <tr>\n",
       "      <th>336817</th>\n",
       "      <td>NaN</td>\n",
       "      <td>NaN</td>\n",
       "      <td>NaN</td>\n",
       "      <td>NaN</td>\n",
       "      <td>0_1780</td>\n",
       "      <td>NaN</td>\n",
       "      <td>NaN</td>\n",
       "      <td>NaN</td>\n",
       "      <td>1.67</td>\n",
       "      <td>0</td>\n",
       "      <td>right_only</td>\n",
       "    </tr>\n",
       "    <tr>\n",
       "      <th>336818</th>\n",
       "      <td>NaN</td>\n",
       "      <td>NaN</td>\n",
       "      <td>NaN</td>\n",
       "      <td>NaN</td>\n",
       "      <td>0_1062</td>\n",
       "      <td>NaN</td>\n",
       "      <td>NaN</td>\n",
       "      <td>NaN</td>\n",
       "      <td>20.08</td>\n",
       "      <td>0</td>\n",
       "      <td>right_only</td>\n",
       "    </tr>\n",
       "    <tr>\n",
       "      <th>336819</th>\n",
       "      <td>NaN</td>\n",
       "      <td>NaN</td>\n",
       "      <td>NaN</td>\n",
       "      <td>NaN</td>\n",
       "      <td>0_1119</td>\n",
       "      <td>NaN</td>\n",
       "      <td>NaN</td>\n",
       "      <td>NaN</td>\n",
       "      <td>2.99</td>\n",
       "      <td>0</td>\n",
       "      <td>right_only</td>\n",
       "    </tr>\n",
       "    <tr>\n",
       "      <th>336820</th>\n",
       "      <td>NaN</td>\n",
       "      <td>NaN</td>\n",
       "      <td>NaN</td>\n",
       "      <td>NaN</td>\n",
       "      <td>0_1014</td>\n",
       "      <td>NaN</td>\n",
       "      <td>NaN</td>\n",
       "      <td>NaN</td>\n",
       "      <td>1.15</td>\n",
       "      <td>0</td>\n",
       "      <td>right_only</td>\n",
       "    </tr>\n",
       "  </tbody>\n",
       "</table>\n",
       "</div>"
      ],
      "text/plain": [
       "       client_id  sex  birth  age id_prod date session_id merge_1  price  \\\n",
       "336816       NaN  NaN    NaN  NaN  0_1016  NaN        NaN     NaN  35.06   \n",
       "336817       NaN  NaN    NaN  NaN  0_1780  NaN        NaN     NaN   1.67   \n",
       "336818       NaN  NaN    NaN  NaN  0_1062  NaN        NaN     NaN  20.08   \n",
       "336819       NaN  NaN    NaN  NaN  0_1119  NaN        NaN     NaN   2.99   \n",
       "336820       NaN  NaN    NaN  NaN  0_1014  NaN        NaN     NaN   1.15   \n",
       "\n",
       "        categ     merge_2  \n",
       "336816      0  right_only  \n",
       "336817      0  right_only  \n",
       "336818      0  right_only  \n",
       "336819      0  right_only  \n",
       "336820      0  right_only  "
      ]
     },
     "execution_count": 168,
     "metadata": {},
     "output_type": "execute_result"
    }
   ],
   "source": [
    "transactions.loc[transactions['merge_2'] == 'right_only'].head()"
   ]
  },
  {
   "cell_type": "markdown",
   "metadata": {},
   "source": [
    "Certains produits n'ont jamais fait l'objet de transactions, nous allons vérifier quel pourcentage de nos produits est concerné."
   ]
  },
  {
   "cell_type": "code",
   "execution_count": 169,
   "metadata": {},
   "outputs": [
    {
     "data": {
      "text/plain": [
       "22"
      ]
     },
     "execution_count": 169,
     "metadata": {},
     "output_type": "execute_result"
    }
   ],
   "source": [
    "transactions.loc[transactions['merge_2'] == 'right_only'].shape[0]"
   ]
  },
  {
   "cell_type": "code",
   "execution_count": 170,
   "metadata": {},
   "outputs": [
    {
     "data": {
      "text/plain": [
       "0.0065"
      ]
     },
     "execution_count": 170,
     "metadata": {},
     "output_type": "execute_result"
    }
   ],
   "source": [
    "round(100 * transactions.loc[transactions['merge_2'] == 'right_only'].shape[0] / transactions.shape[0],4)"
   ]
  },
  {
   "cell_type": "markdown",
   "metadata": {},
   "source": [
    "Il s'agit d'un pourcentage négligeable, nous pouvons retirer de notre table ces données. "
   ]
  },
  {
   "cell_type": "code",
   "execution_count": 171,
   "metadata": {},
   "outputs": [],
   "source": [
    "transactions = transactions.loc[transactions['merge_2'] != 'right_only']\n",
    "transactions.reset_index(drop = True, inplace = True)"
   ]
  },
  {
   "cell_type": "markdown",
   "metadata": {},
   "source": [
    "Nous calculons l'age des clients au moment de leurs achats : "
   ]
  },
  {
   "cell_type": "code",
   "execution_count": 172,
   "metadata": {},
   "outputs": [],
   "source": [
    "transactions['birth'] = transactions['birth'].astype('int64')\n",
    "transactions['transaction_age'] = (pd.DatetimeIndex(transactions['date']).year  - transactions['birth']).astype('int64')"
   ]
  },
  {
   "cell_type": "markdown",
   "metadata": {},
   "source": [
    "Enfin nous ajoutons un colonnes indiquant le nom du jour de la transaction : "
   ]
  },
  {
   "cell_type": "code",
   "execution_count": 173,
   "metadata": {},
   "outputs": [
    {
     "data": {
      "text/html": [
       "<div>\n",
       "<style scoped>\n",
       "    .dataframe tbody tr th:only-of-type {\n",
       "        vertical-align: middle;\n",
       "    }\n",
       "\n",
       "    .dataframe tbody tr th {\n",
       "        vertical-align: top;\n",
       "    }\n",
       "\n",
       "    .dataframe thead th {\n",
       "        text-align: right;\n",
       "    }\n",
       "</style>\n",
       "<table border=\"1\" class=\"dataframe\">\n",
       "  <thead>\n",
       "    <tr style=\"text-align: right;\">\n",
       "      <th></th>\n",
       "      <th>session_id</th>\n",
       "      <th>date</th>\n",
       "      <th>day</th>\n",
       "      <th>client_id</th>\n",
       "      <th>sex</th>\n",
       "      <th>birth</th>\n",
       "      <th>transaction_age</th>\n",
       "      <th>categ</th>\n",
       "      <th>id_prod</th>\n",
       "      <th>price</th>\n",
       "    </tr>\n",
       "  </thead>\n",
       "  <tbody>\n",
       "    <tr>\n",
       "      <th>0</th>\n",
       "      <td>s_9942</td>\n",
       "      <td>2021-03-22 14:29:25.189266</td>\n",
       "      <td>Monday</td>\n",
       "      <td>c_4410</td>\n",
       "      <td>f</td>\n",
       "      <td>1967</td>\n",
       "      <td>54</td>\n",
       "      <td>0</td>\n",
       "      <td>0_1455</td>\n",
       "      <td>8.99</td>\n",
       "    </tr>\n",
       "    <tr>\n",
       "      <th>1</th>\n",
       "      <td>s_59967</td>\n",
       "      <td>2021-07-09 11:16:18.579726</td>\n",
       "      <td>Friday</td>\n",
       "      <td>c_4389</td>\n",
       "      <td>m</td>\n",
       "      <td>1984</td>\n",
       "      <td>37</td>\n",
       "      <td>0</td>\n",
       "      <td>0_1455</td>\n",
       "      <td>8.99</td>\n",
       "    </tr>\n",
       "    <tr>\n",
       "      <th>2</th>\n",
       "      <td>s_149928</td>\n",
       "      <td>2022-01-15 00:01:53.456196</td>\n",
       "      <td>Saturday</td>\n",
       "      <td>c_5019</td>\n",
       "      <td>f</td>\n",
       "      <td>1977</td>\n",
       "      <td>45</td>\n",
       "      <td>0</td>\n",
       "      <td>0_1455</td>\n",
       "      <td>8.99</td>\n",
       "    </tr>\n",
       "    <tr>\n",
       "      <th>3</th>\n",
       "      <td>s_1637</td>\n",
       "      <td>2021-03-04 14:01:38.698752</td>\n",
       "      <td>Thursday</td>\n",
       "      <td>c_7049</td>\n",
       "      <td>f</td>\n",
       "      <td>1987</td>\n",
       "      <td>34</td>\n",
       "      <td>0</td>\n",
       "      <td>0_1455</td>\n",
       "      <td>8.99</td>\n",
       "    </tr>\n",
       "    <tr>\n",
       "      <th>4</th>\n",
       "      <td>s_85364</td>\n",
       "      <td>2021-09-05 11:48:41.065009</td>\n",
       "      <td>Sunday</td>\n",
       "      <td>c_5110</td>\n",
       "      <td>f</td>\n",
       "      <td>1982</td>\n",
       "      <td>39</td>\n",
       "      <td>0</td>\n",
       "      <td>0_1455</td>\n",
       "      <td>8.99</td>\n",
       "    </tr>\n",
       "  </tbody>\n",
       "</table>\n",
       "</div>"
      ],
      "text/plain": [
       "  session_id                       date       day client_id sex  birth  \\\n",
       "0     s_9942 2021-03-22 14:29:25.189266    Monday    c_4410   f   1967   \n",
       "1    s_59967 2021-07-09 11:16:18.579726    Friday    c_4389   m   1984   \n",
       "2   s_149928 2022-01-15 00:01:53.456196  Saturday    c_5019   f   1977   \n",
       "3     s_1637 2021-03-04 14:01:38.698752  Thursday    c_7049   f   1987   \n",
       "4    s_85364 2021-09-05 11:48:41.065009    Sunday    c_5110   f   1982   \n",
       "\n",
       "   transaction_age  categ id_prod  price  \n",
       "0               54      0  0_1455   8.99  \n",
       "1               37      0  0_1455   8.99  \n",
       "2               45      0  0_1455   8.99  \n",
       "3               34      0  0_1455   8.99  \n",
       "4               39      0  0_1455   8.99  "
      ]
     },
     "execution_count": 173,
     "metadata": {},
     "output_type": "execute_result"
    }
   ],
   "source": [
    "transactions['date'] = pd.to_datetime(transactions['date'])\n",
    "transactions['date'].dt.strftime(\"%Y-%m-%d %H:%M:%S\")\n",
    "transactions['day'] = transactions['date'].dt.day_name()\n",
    "transactions = transactions[['session_id', 'date', 'day','client_id', 'sex', 'birth','transaction_age', 'categ', 'id_prod' ,\n",
    "       'price' ]]\n",
    "transactions.head()"
   ]
  },
  {
   "cell_type": "markdown",
   "metadata": {},
   "source": [
    "# Mission n°2"
   ]
  },
  {
   "cell_type": "markdown",
   "metadata": {},
   "source": [
    "__Nous calculons le CA pour la période étudiée :__"
   ]
  },
  {
   "cell_type": "code",
   "execution_count": 174,
   "metadata": {},
   "outputs": [
    {
     "name": "stdout",
     "output_type": "stream",
     "text": [
      "76602   2021-03-01 00:01:07.843138\n",
      "Name: date, dtype: datetime64[ns]\n",
      "305259   2022-02-28 23:59:58.040472\n",
      "Name: date, dtype: datetime64[ns]\n"
     ]
    }
   ],
   "source": [
    "print(transactions['date'].sort_values().head(1))\n",
    "print(transactions['date'].sort_values().tail(1))"
   ]
  },
  {
   "cell_type": "markdown",
   "metadata": {},
   "source": [
    "La période étudiée est celle du 01/03/2021 au 28/02/2022."
   ]
  },
  {
   "cell_type": "code",
   "execution_count": 175,
   "metadata": {},
   "outputs": [
    {
     "data": {
      "text/plain": [
       "5797674.72"
      ]
     },
     "execution_count": 175,
     "metadata": {},
     "output_type": "execute_result"
    }
   ],
   "source": [
    "CA = transactions['price'].sum()\n",
    "CA"
   ]
  },
  {
   "cell_type": "markdown",
   "metadata": {},
   "source": [
    "__Nous étudions le pourcentage de femme et d'homme dans notre porte feuille de clients en vayant bien à prendre uniquement en considération les clients uniques.__"
   ]
  },
  {
   "cell_type": "code",
   "execution_count": 176,
   "metadata": {},
   "outputs": [],
   "source": [
    "clients_uniques = transactions.drop_duplicates(subset = \"client_id\").shape[0] # nous déterminons le nombre de clients uniques"
   ]
  },
  {
   "cell_type": "code",
   "execution_count": 177,
   "metadata": {},
   "outputs": [],
   "source": [
    "produits_uniques = transactions.drop_duplicates(subset = \"id_prod\").shape[0]"
   ]
  },
  {
   "cell_type": "code",
   "execution_count": 178,
   "metadata": {},
   "outputs": [
    {
     "data": {
      "text/plain": [
       "4491"
      ]
     },
     "execution_count": 178,
     "metadata": {},
     "output_type": "execute_result"
    }
   ],
   "source": [
    "client_f = customers.drop_duplicates(subset='client_id')['sex'].str.count('f').sum()\n",
    "client_f"
   ]
  },
  {
   "cell_type": "code",
   "execution_count": 179,
   "metadata": {},
   "outputs": [
    {
     "data": {
      "text/plain": [
       "4132"
      ]
     },
     "execution_count": 179,
     "metadata": {},
     "output_type": "execute_result"
    }
   ],
   "source": [
    "client_m = customers.drop_duplicates(subset='client_id')['sex'].str.count('m').sum()\n",
    "client_m"
   ]
  },
  {
   "cell_type": "code",
   "execution_count": 180,
   "metadata": {},
   "outputs": [
    {
     "data": {
      "text/plain": [
       "8623"
      ]
     },
     "execution_count": 180,
     "metadata": {},
     "output_type": "execute_result"
    }
   ],
   "source": [
    "client_f + client_m"
   ]
  },
  {
   "cell_type": "code",
   "execution_count": 181,
   "metadata": {},
   "outputs": [],
   "source": [
    "pourcentage_f = (100 * client_f /(client_f + client_m)).round(2)"
   ]
  },
  {
   "cell_type": "code",
   "execution_count": 182,
   "metadata": {},
   "outputs": [],
   "source": [
    "pourcentage_m = (100 * client_m /(client_f + client_m)).round(2)"
   ]
  },
  {
   "cell_type": "code",
   "execution_count": 183,
   "metadata": {},
   "outputs": [
    {
     "data": {
      "image/png": "[encoded data removed]",
      "text/plain": [
       "<Figure size 432x288 with 1 Axes>"
      ]
     },
     "metadata": {},
     "output_type": "display_data"
    }
   ],
   "source": [
    "import matplotlib.pyplot as plt\n",
    "\n",
    "labels = 'Mens', 'Womens'\n",
    "sizes = [client_m , client_f]\n",
    "colors = [ 'lightskyblue' , 'lightcoral']\n",
    "\n",
    "plt.pie(sizes, labels=labels, colors=colors, \n",
    "        autopct='%1.1f%%', shadow=True, startangle=90)\n",
    "\n",
    "plt.axis('equal')\n",
    "plt.title('Clients gender')\n",
    "plt.show()"
   ]
  },
  {
   "cell_type": "markdown",
   "metadata": {},
   "source": [
    "__Nous modélisons à l'aide d'un histogramme la distribution des âges pour notre portefeuille de clients.__"
   ]
  },
  {
   "cell_type": "code",
   "execution_count": 184,
   "metadata": {},
   "outputs": [
    {
     "data": {
      "text/plain": [
       "77"
      ]
     },
     "execution_count": 184,
     "metadata": {},
     "output_type": "execute_result"
    }
   ],
   "source": [
    "transactions['transaction_age'].drop_duplicates().count() "
   ]
  },
  {
   "cell_type": "code",
   "execution_count": 185,
   "metadata": {},
   "outputs": [
    {
     "data": {
      "text/plain": [
       "Text(0, 0.5, 'Headcounts')"
      ]
     },
     "execution_count": 185,
     "metadata": {},
     "output_type": "execute_result"
    },
    {
     "data": {
      "image/png": "[encoded data removed]",
      "text/plain": [
       "<Figure size 432x288 with 1 Axes>"
      ]
     },
     "metadata": {
      "needs_background": "light"
     },
     "output_type": "display_data"
    }
   ],
   "source": [
    "transactions.drop_duplicates(subset='client_id').hist(column='transaction_age', by=None, grid=False, xlabelsize=None, xrot=None, ylabelsize=None, yrot=None, ax=None, sharex=False, sharey=False, figsize=None, layout=None, bins=77)\n",
    "plt.title('Clients age')\n",
    "plt.xlabel('Values')\n",
    "plt.ylabel('Headcounts')"
   ]
  },
  {
   "cell_type": "markdown",
   "metadata": {},
   "source": [
    "Il apparaît que nous possédons une jeune clientelle, mais que l'étendue de notre série est importante."
   ]
  },
  {
   "cell_type": "markdown",
   "metadata": {},
   "source": [
    "La quantité de clients qui ont 18 ans est très élevée, cela laisse penser qu'il y a un problème. C'est probablement l'age par défaut attribué.  "
   ]
  },
  {
   "cell_type": "markdown",
   "metadata": {},
   "source": [
    "__Nous cherchons désormais à déterminer les 10 clients générant le plus haut chiffre d'affaire.__"
   ]
  },
  {
   "cell_type": "code",
   "execution_count": 186,
   "metadata": {
    "scrolled": true
   },
   "outputs": [
    {
     "name": "stdout",
     "output_type": "stream",
     "text": [
      "             birth             CA  pourcentage_CA\n",
      "count    10.000000      10.000000       10.000000\n",
      "mean   1978.500000   44915.548000        0.772000\n",
      "std       8.669871   62581.792184        1.080389\n",
      "min    1968.000000    2511.980000        0.040000\n",
      "25%    1974.750000    2530.390000        0.040000\n",
      "50%    1978.000000    2556.285000        0.040000\n",
      "75%    1979.500000   68530.035000        1.180000\n",
      "max    1999.000000  162007.340000        2.790000\n"
     ]
    },
    {
     "data": {
      "text/html": [
       "<div>\n",
       "<style scoped>\n",
       "    .dataframe tbody tr th:only-of-type {\n",
       "        vertical-align: middle;\n",
       "    }\n",
       "\n",
       "    .dataframe tbody tr th {\n",
       "        vertical-align: top;\n",
       "    }\n",
       "\n",
       "    .dataframe thead th {\n",
       "        text-align: right;\n",
       "    }\n",
       "</style>\n",
       "<table border=\"1\" class=\"dataframe\">\n",
       "  <thead>\n",
       "    <tr style=\"text-align: right;\">\n",
       "      <th></th>\n",
       "      <th>client_id</th>\n",
       "      <th>sex</th>\n",
       "      <th>birth</th>\n",
       "      <th>CA</th>\n",
       "      <th>pourcentage_CA</th>\n",
       "    </tr>\n",
       "  </thead>\n",
       "  <tbody>\n",
       "    <tr>\n",
       "      <th>0</th>\n",
       "      <td>c_1609</td>\n",
       "      <td>m</td>\n",
       "      <td>1980</td>\n",
       "      <td>162007.34</td>\n",
       "      <td>2.79</td>\n",
       "    </tr>\n",
       "    <tr>\n",
       "      <th>1</th>\n",
       "      <td>c_4958</td>\n",
       "      <td>m</td>\n",
       "      <td>1999</td>\n",
       "      <td>144257.21</td>\n",
       "      <td>2.49</td>\n",
       "    </tr>\n",
       "    <tr>\n",
       "      <th>2</th>\n",
       "      <td>c_6714</td>\n",
       "      <td>f</td>\n",
       "      <td>1968</td>\n",
       "      <td>73218.64</td>\n",
       "      <td>1.26</td>\n",
       "    </tr>\n",
       "    <tr>\n",
       "      <th>3</th>\n",
       "      <td>c_3454</td>\n",
       "      <td>m</td>\n",
       "      <td>1969</td>\n",
       "      <td>54464.22</td>\n",
       "      <td>0.94</td>\n",
       "    </tr>\n",
       "    <tr>\n",
       "      <th>4</th>\n",
       "      <td>c_7959</td>\n",
       "      <td>f</td>\n",
       "      <td>1974</td>\n",
       "      <td>2564.25</td>\n",
       "      <td>0.04</td>\n",
       "    </tr>\n",
       "    <tr>\n",
       "      <th>5</th>\n",
       "      <td>c_8026</td>\n",
       "      <td>m</td>\n",
       "      <td>1978</td>\n",
       "      <td>2548.32</td>\n",
       "      <td>0.04</td>\n",
       "    </tr>\n",
       "    <tr>\n",
       "      <th>6</th>\n",
       "      <td>c_4491</td>\n",
       "      <td>f</td>\n",
       "      <td>1984</td>\n",
       "      <td>2540.53</td>\n",
       "      <td>0.04</td>\n",
       "    </tr>\n",
       "    <tr>\n",
       "      <th>7</th>\n",
       "      <td>c_2140</td>\n",
       "      <td>f</td>\n",
       "      <td>1977</td>\n",
       "      <td>2527.01</td>\n",
       "      <td>0.04</td>\n",
       "    </tr>\n",
       "    <tr>\n",
       "      <th>8</th>\n",
       "      <td>c_8392</td>\n",
       "      <td>f</td>\n",
       "      <td>1978</td>\n",
       "      <td>2515.98</td>\n",
       "      <td>0.04</td>\n",
       "    </tr>\n",
       "    <tr>\n",
       "      <th>9</th>\n",
       "      <td>c_7421</td>\n",
       "      <td>m</td>\n",
       "      <td>1978</td>\n",
       "      <td>2511.98</td>\n",
       "      <td>0.04</td>\n",
       "    </tr>\n",
       "  </tbody>\n",
       "</table>\n",
       "</div>"
      ],
      "text/plain": [
       "  client_id sex  birth         CA  pourcentage_CA\n",
       "0    c_1609   m   1980  162007.34            2.79\n",
       "1    c_4958   m   1999  144257.21            2.49\n",
       "2    c_6714   f   1968   73218.64            1.26\n",
       "3    c_3454   m   1969   54464.22            0.94\n",
       "4    c_7959   f   1974    2564.25            0.04\n",
       "5    c_8026   m   1978    2548.32            0.04\n",
       "6    c_4491   f   1984    2540.53            0.04\n",
       "7    c_2140   f   1977    2527.01            0.04\n",
       "8    c_8392   f   1978    2515.98            0.04\n",
       "9    c_7421   m   1978    2511.98            0.04"
      ]
     },
     "execution_count": 186,
     "metadata": {},
     "output_type": "execute_result"
    }
   ],
   "source": [
    "customers_top10 = transactions[['client_id','price']].groupby('client_id').sum().sort_values(by = 'price',ascending=False).head(10).reset_index()\n",
    "customers_top10 = customers_top10.merge(customers, how ='inner', on=['client_id'])\n",
    "customers_top10['pourcentage_CA'] = (100 * customers_top10['price'] / CA).round(2)\n",
    "customers_top10 = customers_top10[['client_id','sex', 'birth','price', 'pourcentage_CA']]\n",
    "customers_top10.columns = 'client_id','sex', 'birth','CA', 'pourcentage_CA'\n",
    "print(customers_top10.describe())\n",
    "customers_top10\n"
   ]
  },
  {
   "cell_type": "code",
   "execution_count": 187,
   "metadata": {},
   "outputs": [
    {
     "data": {
      "text/plain": [
       "433947.41"
      ]
     },
     "execution_count": 187,
     "metadata": {},
     "output_type": "execute_result"
    }
   ],
   "source": [
    "round(customers_top10['CA'].head(4).sum(),2)"
   ]
  },
  {
   "cell_type": "code",
   "execution_count": 188,
   "metadata": {},
   "outputs": [
    {
     "data": {
      "text/plain": [
       "7.48"
      ]
     },
     "execution_count": 188,
     "metadata": {},
     "output_type": "execute_result"
    }
   ],
   "source": [
    "customers_top10['pourcentage_CA'].head(4).sum() #pourcentage du CA généré par les 4 meilleurs clients"
   ]
  },
  {
   "cell_type": "code",
   "execution_count": 189,
   "metadata": {},
   "outputs": [
    {
     "data": {
      "text/plain": [
       "0.05"
      ]
     },
     "execution_count": 189,
     "metadata": {},
     "output_type": "execute_result"
    }
   ],
   "source": [
    "round(100 * 4 / clients_uniques,2) #pourcentage des clients que représentent ces 4 clients"
   ]
  },
  {
   "cell_type": "markdown",
   "metadata": {},
   "source": [
    "Nous constatons que les quatres premiers clients représentent  __0,05%__ des clients mais génèrent __7,48%__ du CA. \n",
    "\n",
    "Les montants engagés laissent penser qu'il s'agit de clients professionnels. "
   ]
  },
  {
   "cell_type": "code",
   "execution_count": 190,
   "metadata": {},
   "outputs": [
    {
     "data": {
      "text/plain": [
       "Text(0, 0.5, 'Turnover')"
      ]
     },
     "execution_count": 190,
     "metadata": {},
     "output_type": "execute_result"
    },
    {
     "data": {
      "image/png": "[encoded data removed]",
      "text/plain": [
       "<Figure size 432x288 with 1 Axes>"
      ]
     },
     "metadata": {
      "needs_background": "light"
     },
     "output_type": "display_data"
    }
   ],
   "source": [
    "transactions.groupby('client_id').sum().boxplot(column='price', by=None, ax=None, fontsize=None, rot=0, grid=True, figsize=None, layout=None, return_type=None)\n",
    "plt.title('Best clients boxplot')\n",
    "plt.xlabel('')\n",
    "plt.ylabel('Turnover')"
   ]
  },
  {
   "cell_type": "code",
   "execution_count": 191,
   "metadata": {},
   "outputs": [
    {
     "data": {
      "text/plain": [
       "Text(0, 0.5, 'Turnover')"
      ]
     },
     "execution_count": 191,
     "metadata": {},
     "output_type": "execute_result"
    },
    {
     "data": {
      "image/png": "[encoded data removed]",
      "text/plain": [
       "<Figure size 432x288 with 1 Axes>"
      ]
     },
     "metadata": {
      "needs_background": "light"
     },
     "output_type": "display_data"
    }
   ],
   "source": [
    "transactions_CA  = transactions.loc[(transactions['client_id'] != 'c_1609') & (transactions['client_id'] != 'c_4958') & (transactions['client_id'] !='c_6714') & (transactions['client_id'] != 'c_3454') ].groupby('client_id').sum().boxplot(column='price')\n",
    "\n",
    "plt.title('Best clients boxplot without outliers')\n",
    "plt.xlabel('')\n",
    "plt.ylabel('Turnover')"
   ]
  },
  {
   "cell_type": "code",
   "execution_count": 192,
   "metadata": {},
   "outputs": [
    {
     "data": {
      "image/png": "[encoded data removed]",
      "text/plain": [
       "<Figure size 432x288 with 1 Axes>"
      ]
     },
     "metadata": {
      "needs_background": "light"
     },
     "output_type": "display_data"
    }
   ],
   "source": [
    "plt.title('Turnover by customers - Lorenz curve')\n",
    "plt.xlabel('Clients')\n",
    "plt.ylabel('Turnover')  \n",
    "\n",
    "ca_customers = transactions.groupby('client_id').sum()['price'].values\n",
    "\n",
    "lorenz = np.cumsum(np.sort(ca_customers)) / ca_customers.sum()\n",
    "lorenz = np.append([0],lorenz) \n",
    "\n",
    "plt.plot(np.linspace(0,1,len(lorenz)),lorenz, label=\"Lorenz Curve\")\n",
    "\n",
    "plt.plot([0,1],label=\"Line of Equality\")\n",
    "\n",
    "plt.legend(bbox_to_anchor=(1.05, 1), loc=2, borderaxespad=0.)\n",
    "\n",
    "plt.grid(b=None, which='major', axis='both')\n",
    "\n",
    "plt.show()"
   ]
  },
  {
   "cell_type": "markdown",
   "metadata": {},
   "source": [
    "Nous calculons l'indice de Gini correspondant : "
   ]
  },
  {
   "cell_type": "code",
   "execution_count": 193,
   "metadata": {},
   "outputs": [
    {
     "data": {
      "text/plain": [
       "0.44"
      ]
     },
     "execution_count": 193,
     "metadata": {},
     "output_type": "execute_result"
    }
   ],
   "source": [
    "aire_ss_courbe = lorenz[:-1].sum()/len(lorenz) \n",
    "S = 0.5 - aire_ss_courbe \n",
    "gini = 2*S\n",
    "round(gini,2)"
   ]
  },
  {
   "cell_type": "markdown",
   "metadata": {},
   "source": [
    "__Nous cherchons désormais à déterminer les 10 produits générant le plus haut chiffre d'affaire.__"
   ]
  },
  {
   "cell_type": "code",
   "execution_count": 194,
   "metadata": {},
   "outputs": [
    {
     "data": {
      "text/html": [
       "<div>\n",
       "<style scoped>\n",
       "    .dataframe tbody tr th:only-of-type {\n",
       "        vertical-align: middle;\n",
       "    }\n",
       "\n",
       "    .dataframe tbody tr th {\n",
       "        vertical-align: top;\n",
       "    }\n",
       "\n",
       "    .dataframe thead th {\n",
       "        text-align: right;\n",
       "    }\n",
       "</style>\n",
       "<table border=\"1\" class=\"dataframe\">\n",
       "  <thead>\n",
       "    <tr style=\"text-align: right;\">\n",
       "      <th></th>\n",
       "      <th>id_prod</th>\n",
       "      <th>price</th>\n",
       "      <th>CA</th>\n",
       "      <th>pourcentage_CA</th>\n",
       "    </tr>\n",
       "  </thead>\n",
       "  <tbody>\n",
       "    <tr>\n",
       "      <th>0</th>\n",
       "      <td>2_135</td>\n",
       "      <td>68.99</td>\n",
       "      <td>33874.09</td>\n",
       "      <td>0.58</td>\n",
       "    </tr>\n",
       "    <tr>\n",
       "      <th>1</th>\n",
       "      <td>2_112</td>\n",
       "      <td>67.57</td>\n",
       "      <td>31960.61</td>\n",
       "      <td>0.55</td>\n",
       "    </tr>\n",
       "    <tr>\n",
       "      <th>2</th>\n",
       "      <td>2_102</td>\n",
       "      <td>59.14</td>\n",
       "      <td>28919.46</td>\n",
       "      <td>0.50</td>\n",
       "    </tr>\n",
       "    <tr>\n",
       "      <th>3</th>\n",
       "      <td>2_209</td>\n",
       "      <td>69.99</td>\n",
       "      <td>27296.10</td>\n",
       "      <td>0.47</td>\n",
       "    </tr>\n",
       "    <tr>\n",
       "      <th>4</th>\n",
       "      <td>2_110</td>\n",
       "      <td>62.25</td>\n",
       "      <td>27016.50</td>\n",
       "      <td>0.47</td>\n",
       "    </tr>\n",
       "    <tr>\n",
       "      <th>5</th>\n",
       "      <td>1_369</td>\n",
       "      <td>23.99</td>\n",
       "      <td>25933.19</td>\n",
       "      <td>0.45</td>\n",
       "    </tr>\n",
       "    <tr>\n",
       "      <th>6</th>\n",
       "      <td>1_395</td>\n",
       "      <td>28.99</td>\n",
       "      <td>25830.09</td>\n",
       "      <td>0.45</td>\n",
       "    </tr>\n",
       "    <tr>\n",
       "      <th>7</th>\n",
       "      <td>2_166</td>\n",
       "      <td>230.04</td>\n",
       "      <td>25534.44</td>\n",
       "      <td>0.44</td>\n",
       "    </tr>\n",
       "    <tr>\n",
       "      <th>8</th>\n",
       "      <td>2_43</td>\n",
       "      <td>69.99</td>\n",
       "      <td>25266.39</td>\n",
       "      <td>0.44</td>\n",
       "    </tr>\n",
       "    <tr>\n",
       "      <th>9</th>\n",
       "      <td>2_39</td>\n",
       "      <td>57.99</td>\n",
       "      <td>25225.65</td>\n",
       "      <td>0.44</td>\n",
       "    </tr>\n",
       "  </tbody>\n",
       "</table>\n",
       "</div>"
      ],
      "text/plain": [
       "  id_prod   price        CA  pourcentage_CA\n",
       "0   2_135   68.99  33874.09            0.58\n",
       "1   2_112   67.57  31960.61            0.55\n",
       "2   2_102   59.14  28919.46            0.50\n",
       "3   2_209   69.99  27296.10            0.47\n",
       "4   2_110   62.25  27016.50            0.47\n",
       "5   1_369   23.99  25933.19            0.45\n",
       "6   1_395   28.99  25830.09            0.45\n",
       "7   2_166  230.04  25534.44            0.44\n",
       "8    2_43   69.99  25266.39            0.44\n",
       "9    2_39   57.99  25225.65            0.44"
      ]
     },
     "execution_count": 194,
     "metadata": {},
     "output_type": "execute_result"
    }
   ],
   "source": [
    "products_top10 = transactions[['id_prod','price']].groupby('id_prod').sum().sort_values(by = 'price',ascending=False).head(10).reset_index()\n",
    "products_top10.columns ='id_prod', 'CA'\n",
    "products_top10['pourcentage_CA'] = (100 * products_top10['CA'] / CA).round(2)\n",
    "products_top10 = products_top10.merge(products[['id_prod','price']], how ='inner', on=['id_prod'])\n",
    "products_top10 = products_top10[['id_prod','price', 'CA', 'pourcentage_CA']]\n",
    "products_top10"
   ]
  },
  {
   "cell_type": "code",
   "execution_count": 195,
   "metadata": {},
   "outputs": [
    {
     "data": {
      "text/plain": [
       "Text(0.5, 0, 'Turnovers')"
      ]
     },
     "execution_count": 195,
     "metadata": {},
     "output_type": "execute_result"
    },
    {
     "data": {
      "image/png": "[encoded data removed]",
      "text/plain": [
       "<Figure size 432x288 with 1 Axes>"
      ]
     },
     "metadata": {
      "needs_background": "light"
     },
     "output_type": "display_data"
    }
   ],
   "source": [
    "transactions[['id_prod','price']].groupby('id_prod').sum().sort_values(by = 'price',ascending=False).reset_index().boxplot(column='price')\n",
    "plt.xlabel(\"Turnovers\")"
   ]
  },
  {
   "cell_type": "code",
   "execution_count": 196,
   "metadata": {},
   "outputs": [
    {
     "data": {
      "image/png": "[encoded data removed]",
      "text/plain": [
       "<Figure size 432x288 with 1 Axes>"
      ]
     },
     "metadata": {
      "needs_background": "light"
     },
     "output_type": "display_data"
    },
    {
     "name": "stdout",
     "output_type": "stream",
     "text": [
      "count     3265.000000\n",
      "mean      1775.704355\n",
      "std       3508.778949\n",
      "min          0.990000\n",
      "25%        119.160000\n",
      "50%        402.300000\n",
      "75%       1679.790000\n",
      "max      33874.090000\n",
      "Name: price, dtype: float64\n",
      "\n",
      "id_prod\n",
      "2_135    33874.09\n",
      "2_112    31960.61\n",
      "2_102    28919.46\n",
      "2_209    27296.10\n",
      "2_110    27016.50\n",
      "1_369    25933.19\n",
      "1_395    25830.09\n",
      "2_166    25534.44\n",
      "2_43     25266.39\n",
      "2_39     25225.65\n",
      "Name: price, dtype: float64\n"
     ]
    }
   ],
   "source": [
    "plt.title('Turnover by product - Lorenz curve')\n",
    "plt.xlabel('Product')\n",
    "plt.ylabel('Turnover')  \n",
    "\n",
    "ca_products = transactions.groupby('id_prod').sum()['price'].values\n",
    "\n",
    "lorenz = np.cumsum(np.sort(ca_products)) / ca_products.sum()\n",
    "lorenz = np.append([0],lorenz)   \n",
    "\n",
    "plt.plot(np.linspace(0,1,len(lorenz)),lorenz, label=\"Lorenz Curve\")\n",
    "\n",
    "plt.plot([0,1],label=\"Line of Equality\")\n",
    "\n",
    "plt.legend(bbox_to_anchor=(1.05, 1), loc=2, borderaxespad=0.)\n",
    "\n",
    "plt.grid(b=None, which='major', axis='both')\n",
    "  \n",
    "plt.show()\n",
    "\n",
    "print(transactions.groupby('id_prod').sum()['price'].describe())\n",
    "print('')\n",
    "print(transactions.groupby('id_prod').sum()['price'].sort_values(ascending=False).head(10))"
   ]
  },
  {
   "cell_type": "markdown",
   "metadata": {},
   "source": [
    "__On constate une distribution de Pareto.__"
   ]
  },
  {
   "cell_type": "markdown",
   "metadata": {},
   "source": [
    "Nous calculons l'indice de Gini correspondant : "
   ]
  },
  {
   "cell_type": "code",
   "execution_count": 197,
   "metadata": {},
   "outputs": [
    {
     "data": {
      "text/plain": [
       "0.74"
      ]
     },
     "execution_count": 197,
     "metadata": {},
     "output_type": "execute_result"
    }
   ],
   "source": [
    "aire_ss_courbe = lorenz[:-1].sum()/len(lorenz) \n",
    "S = 0.5 - aire_ss_courbe \n",
    "gini = 2*S\n",
    "round(gini,2)"
   ]
  },
  {
   "cell_type": "code",
   "execution_count": 198,
   "metadata": {},
   "outputs": [],
   "source": [
    "transactions['date_ymd'] = transactions['date'].dt.strftime(\"%Y-%m-%d\")\n",
    "transactions['date_ym'] = transactions['date'].dt.strftime(\"%y-%m\")"
   ]
  },
  {
   "cell_type": "code",
   "execution_count": 199,
   "metadata": {},
   "outputs": [
    {
     "name": "stdout",
     "output_type": "stream",
     "text": [
      "         day      turnover\n",
      "0     Monday  15905.944906\n",
      "1    Tuesday  15868.500000\n",
      "2  Wednesday  15736.073846\n",
      "3   Thursday  15975.200385\n",
      "4     Friday  16119.204038\n",
      "5   Saturday  15787.541731\n",
      "6     Sunday  15795.396154\n"
     ]
    },
    {
     "data": {
      "image/png": "[encoded data removed]",
      "text/plain": [
       "<Figure size 432x288 with 1 Axes>"
      ]
     },
     "metadata": {
      "needs_background": "light"
     },
     "output_type": "display_data"
    },
    {
     "data": {
      "text/html": [
       "<div>\n",
       "<style scoped>\n",
       "    .dataframe tbody tr th:only-of-type {\n",
       "        vertical-align: middle;\n",
       "    }\n",
       "\n",
       "    .dataframe tbody tr th {\n",
       "        vertical-align: top;\n",
       "    }\n",
       "\n",
       "    .dataframe thead th {\n",
       "        text-align: right;\n",
       "    }\n",
       "</style>\n",
       "<table border=\"1\" class=\"dataframe\">\n",
       "  <thead>\n",
       "    <tr style=\"text-align: right;\">\n",
       "      <th></th>\n",
       "      <th>turnover</th>\n",
       "    </tr>\n",
       "  </thead>\n",
       "  <tbody>\n",
       "    <tr>\n",
       "      <th>count</th>\n",
       "      <td>7.000000</td>\n",
       "    </tr>\n",
       "    <tr>\n",
       "      <th>mean</th>\n",
       "      <td>15883.980151</td>\n",
       "    </tr>\n",
       "    <tr>\n",
       "      <th>std</th>\n",
       "      <td>131.274053</td>\n",
       "    </tr>\n",
       "    <tr>\n",
       "      <th>min</th>\n",
       "      <td>15736.073846</td>\n",
       "    </tr>\n",
       "    <tr>\n",
       "      <th>25%</th>\n",
       "      <td>15791.468942</td>\n",
       "    </tr>\n",
       "    <tr>\n",
       "      <th>50%</th>\n",
       "      <td>15868.500000</td>\n",
       "    </tr>\n",
       "    <tr>\n",
       "      <th>75%</th>\n",
       "      <td>15940.572645</td>\n",
       "    </tr>\n",
       "    <tr>\n",
       "      <th>max</th>\n",
       "      <td>16119.204038</td>\n",
       "    </tr>\n",
       "  </tbody>\n",
       "</table>\n",
       "</div>"
      ],
      "text/plain": [
       "           turnover\n",
       "count      7.000000\n",
       "mean   15883.980151\n",
       "std      131.274053\n",
       "min    15736.073846\n",
       "25%    15791.468942\n",
       "50%    15868.500000\n",
       "75%    15940.572645\n",
       "max    16119.204038"
      ]
     },
     "execution_count": 199,
     "metadata": {},
     "output_type": "execute_result"
    }
   ],
   "source": [
    "tr_day = transactions.groupby('date_ymd').sum()[['price']].reset_index()\n",
    "tr_day.columns = ['date','turnover']\n",
    "tr_day['date'] =  pd.to_datetime(tr_day['date'], format=\"%Y-%m-%d\")\n",
    "tr_day['day'] = tr_day['date'].dt.day_name()\n",
    "tr_day = tr_day[['date', 'day', 'turnover']]\n",
    "tr_day = tr_day.groupby('day').mean()\n",
    "tr_day = tr_day.reindex(['Monday','Tuesday','Wednesday', 'Thursday','Friday','Saturday','Sunday'])\n",
    "tr_day = tr_day.reset_index()\n",
    "\n",
    "plt.bar(tr_day['day'],tr_day['turnover'])\n",
    "\n",
    "print(tr_day)\n",
    "\n",
    "plt.show()\n",
    "\n",
    "tr_day.describe()"
   ]
  },
  {
   "cell_type": "markdown",
   "metadata": {},
   "source": [
    "On constate qu'il y a peu d'écart entre les différents jours de la semaine en terme de chiffre d'affaires."
   ]
  },
  {
   "cell_type": "code",
   "execution_count": 200,
   "metadata": {},
   "outputs": [],
   "source": [
    "ymdms = transactions.copy() # création d'une copie avec les secondes et les minutes si nous étudions la conso. en fonctions de ces variables"
   ]
  },
  {
   "cell_type": "code",
   "execution_count": 201,
   "metadata": {},
   "outputs": [
    {
     "data": {
      "text/plain": [
       "[<matplotlib.lines.Line2D at 0x19f0b334eb8>]"
      ]
     },
     "execution_count": 201,
     "metadata": {},
     "output_type": "execute_result"
    },
    {
     "data": {
      "image/png": "[encoded data removed]",
      "text/plain": [
       "<Figure size 432x288 with 1 Axes>"
      ]
     },
     "metadata": {
      "needs_background": "light"
     },
     "output_type": "display_data"
    }
   ],
   "source": [
    "plt.plot(transactions['date_ym'].drop_duplicates().sort_values(),transactions.groupby('date_ym').sum()['price'])"
   ]
  },
  {
   "cell_type": "markdown",
   "metadata": {},
   "source": [
    "On constate une brutale chute du CA au mois d'octobre 2021."
   ]
  },
  {
   "cell_type": "code",
   "execution_count": 202,
   "metadata": {
    "scrolled": false
   },
   "outputs": [
    {
     "name": "stdout",
     "output_type": "stream",
     "text": [
      "date_ymd\n",
      "2021-09-26    17280.96\n",
      "2021-09-27    18244.43\n",
      "2021-09-28    17838.69\n",
      "2021-09-29    18112.75\n",
      "2021-09-30    18128.01\n",
      "2021-10-01    16909.36\n",
      "2021-10-02     9033.15\n",
      "2021-10-03     8844.07\n",
      "2021-10-04     9152.00\n",
      "2021-10-05     9390.46\n",
      "2021-10-06     9341.71\n",
      "2021-10-07     8191.08\n",
      "2021-10-08    10207.35\n",
      "2021-10-09     9425.36\n",
      "2021-10-10     8676.67\n",
      "2021-10-11    10230.56\n",
      "2021-10-12     8822.17\n",
      "2021-10-13     9427.22\n",
      "2021-10-14     9320.80\n",
      "2021-10-15     9260.50\n",
      "2021-10-16    10229.02\n",
      "2021-10-17     9557.98\n",
      "2021-10-18     9083.72\n",
      "2021-10-19     8623.01\n",
      "2021-10-20     9031.84\n",
      "2021-10-21     9571.79\n",
      "2021-10-22     8318.88\n",
      "2021-10-23     8910.64\n",
      "2021-10-24     9923.19\n",
      "2021-10-25     8076.04\n",
      "2021-10-26     8882.46\n",
      "2021-10-27     9789.53\n",
      "2021-10-28    14758.42\n",
      "2021-10-29    16453.63\n",
      "2021-10-30    15386.78\n",
      "2021-10-31    16405.12\n",
      "Name: price, dtype: float64\n",
      "15884.040328767069\n",
      "9211.52199999994\n"
     ]
    },
    {
     "data": {
      "image/png": "[encoded data removed]",
      "text/plain": [
       "<Figure size 432x288 with 1 Axes>"
      ]
     },
     "metadata": {
      "needs_background": "light"
     },
     "output_type": "display_data"
    }
   ],
   "source": [
    "transactions_ymd = transactions[['date_ymd','price']].sort_values(by='date_ymd').loc[(transactions['date_ymd'] > '2021-09-25' )& (transactions['date_ymd']<'2021-11-01')]\n",
    "\n",
    "plt.plot(transactions_ymd['date_ymd'].drop_duplicates(), transactions_ymd.groupby('date_ymd').sum()['price'])\n",
    "\n",
    "plt.xticks(np.arange(0, 59, step=10))\n",
    "\n",
    "print(transactions_ymd.groupby('date_ymd').sum()['price'])\n",
    "\n",
    "print(transactions.groupby('date_ymd').sum()['price'].mean())\n",
    "\n",
    "print(transactions.sort_values(by='date_ymd').loc[(transactions['date_ymd'] > '2021-10-02' )& (transactions['date_ymd']<'2021-10-28')].groupby('date_ymd').sum()['price'].mean())"
   ]
  },
  {
   "cell_type": "code",
   "execution_count": 203,
   "metadata": {},
   "outputs": [
    {
     "data": {
      "text/plain": [
       "42.01"
      ]
     },
     "execution_count": 203,
     "metadata": {},
     "output_type": "execute_result"
    }
   ],
   "source": [
    "round(100 * (15884.040328767069 - 9211.52199999994) / 15884.040328767069,2) "
   ]
  },
  {
   "cell_type": "markdown",
   "metadata": {},
   "source": [
    "Le chiffre d'affaires moyen pour la période du 02/10/2021 au 27/10/2021 est inférieur de 42,01 % par rapport au chiffre d'affaire moyen de l'ensemble de l'échantillon."
   ]
  },
  {
   "cell_type": "code",
   "execution_count": 204,
   "metadata": {},
   "outputs": [
    {
     "data": {
      "text/plain": [
       "session_id         209529\n",
       "date               209529\n",
       "day                209529\n",
       "client_id          209529\n",
       "sex                209529\n",
       "birth              209529\n",
       "transaction_age    209529\n",
       "categ              209529\n",
       "id_prod            209529\n",
       "price              209529\n",
       "date_ymd           209529\n",
       "date_ym            209529\n",
       "dtype: int64"
      ]
     },
     "execution_count": 204,
     "metadata": {},
     "output_type": "execute_result"
    }
   ],
   "source": [
    "transactions[transactions['categ'] == 0].count()"
   ]
  },
  {
   "cell_type": "code",
   "execution_count": 205,
   "metadata": {},
   "outputs": [
    {
     "name": "stdout",
     "output_type": "stream",
     "text": [
      "date_ym\n",
      "21-03    28568\n",
      "21-04    28415\n",
      "21-05    28245\n",
      "21-06    26819\n",
      "21-07    24716\n",
      "21-08    25619\n",
      "21-09    33266\n",
      "21-10    21584\n",
      "21-11    28277\n",
      "21-12    32424\n",
      "22-01    29316\n",
      "22-02    29567\n",
      "Name: session_id, dtype: int64\n",
      "28068.0\n",
      "23.1\n"
     ]
    }
   ],
   "source": [
    "print(transactions.groupby('date_ym').count()['session_id'])\n",
    "print(transactions.groupby('date_ym').count()['session_id'].mean())\n",
    "print(round(100 * (transactions.groupby('date_ym').count()['session_id'].mean() - 21584) / transactions.groupby('date_ym').count()['session_id'].mean(),2))\n",
    "\n"
   ]
  },
  {
   "cell_type": "markdown",
   "metadata": {},
   "source": [
    "Sur la même période nous constatons une baisse de 23,1 % du nombre de transactions. "
   ]
  },
  {
   "cell_type": "code",
   "execution_count": 206,
   "metadata": {},
   "outputs": [
    {
     "name": "stdout",
     "output_type": "stream",
     "text": [
      "14.276117413674163\n",
      "17.213180846579014\n"
     ]
    }
   ],
   "source": [
    "print(transactions.sort_values(by='date_ymd').loc[(transactions['date_ymd'] > '2021-10-02' )& (transactions['date_ymd']<'2021-10-28')]['price'].mean())\n",
    "print(transactions['price'].mean())"
   ]
  },
  {
   "cell_type": "markdown",
   "metadata": {},
   "source": [
    "On constate que le prix moyen de la transaction a diminué également. "
   ]
  },
  {
   "cell_type": "code",
   "execution_count": 207,
   "metadata": {},
   "outputs": [
    {
     "data": {
      "text/plain": [
       "([<matplotlib.axis.XTick at 0x19f0b2ec198>,\n",
       "  <matplotlib.axis.XTick at 0x19f0b2f2a90>,\n",
       "  <matplotlib.axis.XTick at 0x19f0b2f27f0>,\n",
       "  <matplotlib.axis.XTick at 0x19f266c3438>,\n",
       "  <matplotlib.axis.XTick at 0x19f266c38d0>,\n",
       "  <matplotlib.axis.XTick at 0x19f266c3da0>],\n",
       " <a list of 6 Text xticklabel objects>)"
      ]
     },
     "execution_count": 207,
     "metadata": {},
     "output_type": "execute_result"
    },
    {
     "data": {
      "image/png": "[encoded data removed]",
      "text/plain": [
       "<Figure size 432x288 with 1 Axes>"
      ]
     },
     "metadata": {
      "needs_background": "light"
     },
     "output_type": "display_data"
    }
   ],
   "source": [
    "date_categ =transactions.groupby('date_ym').sum().reset_index()['date_ym']\n",
    "\n",
    "categ = transactions.groupby(['date_ym','categ']).sum().reset_index()[['date_ym','categ','price']]\n",
    "\n",
    "categ0 = categ[categ['categ'] == 0]['price'].reset_index(drop=True)\n",
    "\n",
    "categ1 = categ0 + categ[categ['categ'] == 1]['price'].reset_index(drop=True)\n",
    "\n",
    "categ2 = categ1 + categ[categ['categ'] == 2]['price'].reset_index(drop=True)\n",
    "\n",
    "all_categ = ['categ2','categ1','categ0']\n",
    "\n",
    "plt.bar(date_categ,categ2,color = ['skyblue'])\n",
    "plt.bar(date_categ,categ1,color = ['royalblue'])\n",
    "plt.bar(date_categ,categ0,color = ['darkblue'])\n",
    "\n",
    "plt.title('Turnover by categ')\n",
    "plt.xlabel('Date')\n",
    "plt.ylabel('Turnover')  \n",
    "\n",
    "plt.legend(all_categ,bbox_to_anchor=(1.05, 1), borderaxespad=0., loc=2)\n",
    "\n",
    "plt.xticks(np.arange(0, 11, step=2))"
   ]
  },
  {
   "cell_type": "code",
   "execution_count": 208,
   "metadata": {},
   "outputs": [],
   "source": [
    "CA_categ0 = categ[categ['categ'] == 0]['price'].reset_index(drop=True).mean()\n",
    "CA_categ1 = categ[categ['categ'] == 1]['price'].reset_index(drop=True).mean()\n",
    "CA_categ2 = categ[categ['categ'] == 2]['price'].reset_index(drop=True).mean()\n"
   ]
  },
  {
   "cell_type": "code",
   "execution_count": 209,
   "metadata": {},
   "outputs": [
    {
     "data": {
      "text/plain": [
       "38.48"
      ]
     },
     "execution_count": 209,
     "metadata": {},
     "output_type": "execute_result"
    }
   ],
   "source": [
    "round(100 * CA_categ0 / (CA_categ0 + CA_categ1 + CA_categ2),2)"
   ]
  },
  {
   "cell_type": "code",
   "execution_count": 210,
   "metadata": {},
   "outputs": [
    {
     "data": {
      "text/plain": [
       "38.76"
      ]
     },
     "execution_count": 210,
     "metadata": {},
     "output_type": "execute_result"
    }
   ],
   "source": [
    "round(100 * CA_categ1 / (CA_categ0 + CA_categ1 + CA_categ2),2)"
   ]
  },
  {
   "cell_type": "code",
   "execution_count": 211,
   "metadata": {},
   "outputs": [
    {
     "data": {
      "text/plain": [
       "22.76"
      ]
     },
     "execution_count": 211,
     "metadata": {},
     "output_type": "execute_result"
    }
   ],
   "source": [
    "round(100 * CA_categ2 / (CA_categ0 + CA_categ1 + CA_categ2),2)"
   ]
  },
  {
   "cell_type": "markdown",
   "metadata": {},
   "source": [
    "En moyenne la catégorie 0 représente 38.48 % du chiffre d'affaores, la catégorie 1, 38,76 % du chiffre d'affaire et la catégorie 2, 22,76% du chiffre d'affaires. "
   ]
  },
  {
   "cell_type": "markdown",
   "metadata": {},
   "source": [
    "Cette effondrement du chiffre d'affairres s'explique par la forte diminution des produits appartenant à la catégorie 1 pendant cette même période.  \n",
    "\n",
    "On peut imaginer un problème d'approvisionnement pour les produits de cette catégorie. "
   ]
  },
  {
   "cell_type": "code",
   "execution_count": 212,
   "metadata": {},
   "outputs": [],
   "source": [
    "transactions_october = transactions.sort_values(by='date_ymd').loc[(transactions['date_ymd'] > '2021-10-02' )& (transactions['date_ymd']<'2021-10-28')]\n",
    "\n",
    "transactions_no_october1 = transactions.sort_values(by='date_ymd').loc[transactions['date_ymd'] < '2021-10-02' ]\n",
    "transactions_no_october2 = transactions.sort_values(by='date_ymd').loc[transactions['date_ymd']>'2021-10-28']\n",
    "transactions_no_october = transactions_no_october1.append(transactions_no_october2).reset_index(drop=True)"
   ]
  },
  {
   "cell_type": "code",
   "execution_count": 213,
   "metadata": {},
   "outputs": [
    {
     "name": "stdout",
     "output_type": "stream",
     "text": [
      "70.0427529782809\n",
      "0.0\n",
      "29.957247021719105\n"
     ]
    }
   ],
   "source": [
    "turnover_october = transactions_october['price'].sum()\n",
    "turnover_october_c0 = transactions_october.loc[transactions_october['categ'] == 0]['price'].sum()\n",
    "turnover_october_c1 = transactions_october.loc[transactions_october['categ'] == 1]['price'].sum()\n",
    "turnover_october_c2 = transactions_october.loc[transactions_october['categ'] == 2]['price'].sum()\n",
    "\n",
    "print(100*turnover_october_c0/turnover_october )\n",
    "print(100*turnover_october_c1/turnover_october)\n",
    "print(100*turnover_october_c2/turnover_october)"
   ]
  },
  {
   "cell_type": "code",
   "execution_count": 214,
   "metadata": {},
   "outputs": [
    {
     "name": "stdout",
     "output_type": "stream",
     "text": [
      "37.09765671738904\n",
      "40.42622845957852\n",
      "22.476114823032436\n"
     ]
    }
   ],
   "source": [
    "turnover_no_october = transactions_no_october['price'].sum()\n",
    "turnover_no_october_c0 = transactions_no_october.loc[transactions_no_october['categ'] == 0]['price'].sum()\n",
    "turnover_no_october_c1 = transactions_no_october.loc[transactions_no_october['categ'] == 1]['price'].sum()\n",
    "turnover_no_october_c2 = transactions_no_october.loc[transactions_no_october['categ'] == 2]['price'].sum()\n",
    "\n",
    "print(100*turnover_no_october_c0/turnover_no_october )\n",
    "print(100*turnover_no_october_c1/turnover_no_october)\n",
    "print(100*turnover_no_october_c2/turnover_no_october)"
   ]
  },
  {
   "cell_type": "markdown",
   "metadata": {},
   "source": [
    "Les produits de la catégorie 1 représentent normalement 40,43 % du chiffre d'affaires de l'entreprise, or, durant la période en question, aucune transaction pour cette catégorie d'article n'est constatée.\n",
    "\n",
    "Par ailleurs, la baisse de chiffre d'affaires global constatée est de 42,01 %, ce phénomène explique donc à lui seul la baisse de chiffre d'affaire. "
   ]
  },
  {
   "cell_type": "code",
   "execution_count": 215,
   "metadata": {},
   "outputs": [],
   "source": [
    "transactions_0_ymd = transactions[transactions['categ'] == 0].groupby('date_ymd').sum().reset_index()\n",
    "transactions_0_ymd = transactions_0_ymd[['date_ymd','price']]\n",
    "transactions_0_ymd.columns = ['date','turnover_categ0']\n",
    "\n",
    "transactions_1_ymd = transactions[transactions['categ'] == 1].groupby('date_ymd').sum().reset_index()\n",
    "transactions_1_ymd = transactions_1_ymd[['date_ymd','price']]\n",
    "transactions_1_ymd.columns = ['date','turnover_categ1']\n",
    "\n",
    "transactions_2_ymd = transactions[transactions['categ'] == 2].groupby('date_ymd').sum().reset_index()\n",
    "transactions_2_ymd = transactions_2_ymd[['date_ymd','price']]\n",
    "transactions_2_ymd.columns = ['date', 'turnover_categ2']"
   ]
  },
  {
   "cell_type": "code",
   "execution_count": 216,
   "metadata": {},
   "outputs": [],
   "source": [
    "transactions_ymd = transactions_0_ymd.merge(transactions_1_ymd, how='outer', on=['date'])\n",
    "transactions_ymd = transactions_ymd.merge(transactions_2_ymd, how='outer', on=['date'])\n",
    "transactions_ymd = transactions_ymd.fillna(0)\n",
    "transactions_ymd.columns = ['date', 'turnover_categ0', 'turnover_categ1', 'turnover_categ2']"
   ]
  },
  {
   "cell_type": "code",
   "execution_count": 217,
   "metadata": {},
   "outputs": [
    {
     "data": {
      "text/plain": [
       "([<matplotlib.axis.XTick at 0x19f242d5cc0>,\n",
       "  <matplotlib.axis.XTick at 0x19f242d5908>,\n",
       "  <matplotlib.axis.XTick at 0x19f242d5668>,\n",
       "  <matplotlib.axis.XTick at 0x19f242ca2b0>],\n",
       " <a list of 4 Text xticklabel objects>)"
      ]
     },
     "execution_count": 217,
     "metadata": {},
     "output_type": "execute_result"
    },
    {
     "data": {
      "image/png": "[encoded data removed]",
      "text/plain": [
       "<Figure size 432x288 with 1 Axes>"
      ]
     },
     "metadata": {
      "needs_background": "light"
     },
     "output_type": "display_data"
    }
   ],
   "source": [
    "plt.plot(transactions_ymd['date'],transactions_ymd['turnover_categ0'])\n",
    "plt.plot(transactions_ymd['date'],transactions_ymd['turnover_categ1'])\n",
    "plt.plot(transactions_ymd['date'],transactions_ymd['turnover_categ2'])\n",
    "\n",
    "plt.legend(bbox_to_anchor=(1.05, 1), loc=2, borderaxespad=0.)\n",
    "\n",
    "plt.title('Turnover by categ')\n",
    "plt.xlabel('Date')\n",
    "plt.ylabel('Turnover')  \n",
    "\n",
    "plt.xticks(np.arange(0,364, step=100))"
   ]
  },
  {
   "cell_type": "code",
   "execution_count": 218,
   "metadata": {},
   "outputs": [],
   "source": [
    "transactions_0_count = transactions[transactions['categ'] == 0].groupby('date_ymd').count().reset_index()\n",
    "transactions_0_count = transactions_0_count[['date_ymd','price']]\n",
    "transactions_0_count.columns = ['date','count_categ0']\n",
    "\n",
    "transactions_1_count = transactions[transactions['categ'] == 1].groupby('date_ymd').count().reset_index()\n",
    "transactions_1_count = transactions_1_count[['date_ymd','price']]\n",
    "transactions_1_count.columns = ['date','count_categ1']\n",
    "\n",
    "transactions_2_count = transactions[transactions['categ'] == 2].groupby('date_ymd').count().reset_index()\n",
    "transactions_2_count = transactions_2_count[['date_ymd','price']]\n",
    "transactions_2_count.columns = ['date','count_categ2']"
   ]
  },
  {
   "cell_type": "code",
   "execution_count": 219,
   "metadata": {},
   "outputs": [],
   "source": [
    "transactions_count = transactions_0_count.merge(transactions_1_count, how='outer', on=['date'])\n",
    "transactions_count = transactions_count.merge(transactions_2_count, how='outer', on=['date'])\n",
    "transactions_count = transactions_count.fillna(0)\n",
    "transactions_count.columns = ['date', 'count_categ0', 'count_categ1', 'count_categ2']"
   ]
  },
  {
   "cell_type": "markdown",
   "metadata": {},
   "source": [
    "Alors qu'essentiellement, les ventes des différentes catégories de produits se compensent permettant une hausse constante du chiffre d'affaires pour la période étudiée, la chute du chiffre d'affaire généré par la catégorie 1 ne l'est pas engendrant un recul du chiffre d'affaires global. "
   ]
  },
  {
   "cell_type": "code",
   "execution_count": 220,
   "metadata": {},
   "outputs": [
    {
     "name": "stdout",
     "output_type": "stream",
     "text": [
      "10.646829794446507\n",
      "20.480105800341146\n",
      "75.17494929352434\n"
     ]
    },
    {
     "data": {
      "image/png": "[encoded data removed]",
      "text/plain": [
       "<Figure size 432x288 with 1 Axes>"
      ]
     },
     "metadata": {
      "needs_background": "light"
     },
     "output_type": "display_data"
    }
   ],
   "source": [
    "plt.plot(transactions_count['date'],transactions_count['count_categ0'])\n",
    "plt.plot(transactions_count['date'],transactions_count['count_categ1'])\n",
    "plt.plot(transactions_count['date'],transactions_count['count_categ2'])\n",
    "\n",
    "plt.legend(bbox_to_anchor=(1.05, 1), loc=2, borderaxespad=0.)\n",
    "\n",
    "plt.title('Transactions numbers')\n",
    "plt.xlabel('Date')\n",
    "plt.ylabel('Transactions')  \n",
    "\n",
    "plt.xticks(np.arange(0,364, step=100))\n",
    "\n",
    "print(transactions[transactions['categ'] == 0]['price'].mean())\n",
    "print(transactions[transactions['categ'] == 1]['price'].mean())\n",
    "print(transactions[transactions['categ'] == 2]['price'].mean())"
   ]
  },
  {
   "cell_type": "code",
   "execution_count": 221,
   "metadata": {},
   "outputs": [
    {
     "name": "stdout",
     "output_type": "stream",
     "text": [
      "     date  categ0_count  categ1_count  categ2_count\n",
      "0   21-03         18119          9134          1315\n",
      "1   21-04         19335          7579          1501\n",
      "2   21-05         18485          8107          1653\n",
      "3   21-06         15886          9264          1669\n",
      "4   21-07         13569          9169          1978\n",
      "5   21-08         15717          7954          1948\n",
      "6   21-09         23124          9268           874\n",
      "7   21-10         18758          1666          1160\n",
      "8   21-11         14588         12316          1373\n",
      "9   21-12         19289         12259           876\n",
      "10  22-01         15386         12560          1370\n",
      "11  22-02         17273         10459          1835\n"
     ]
    }
   ],
   "source": [
    "transactions_ym_0 = transactions.loc[transactions.categ == 0].groupby('date_ym').count().reset_index()\n",
    "transactions_ym_0 = transactions_ym_0[['date_ym','session_id']]\n",
    "transactions_ym_0.columns = ['date','categ0_count']\n",
    "\n",
    "transactions_ym_1 = transactions.loc[transactions.categ == 1].groupby('date_ym').count().reset_index()\n",
    "transactions_ym_1 = transactions_ym_1[['date_ym','session_id']]\n",
    "transactions_ym_1.columns = ['date','categ1_count']\n",
    "\n",
    "transactions_ym_2 = transactions.loc[transactions.categ == 2].groupby('date_ym').count().reset_index()\n",
    "transactions_ym_2 = transactions_ym_2[['date_ym','session_id']]\n",
    "transactions_ym_2.columns = ['date','categ2_count']\n",
    "\n",
    "transac_ym_count = transactions_ym_0.merge(transactions_ym_1, how='outer', on=['date'])\n",
    "transac_ym_count = transac_ym_count.merge(transactions_ym_2, how='outer', on=['date'])\n",
    "\n",
    "print(transac_ym_count)\n"
   ]
  },
  {
   "cell_type": "code",
   "execution_count": 222,
   "metadata": {},
   "outputs": [
    {
     "data": {
      "text/plain": [
       "([<matplotlib.axis.XTick at 0x19f0f1b1c50>,\n",
       "  <matplotlib.axis.XTick at 0x19f0f1b1470>,\n",
       "  <matplotlib.axis.XTick at 0x19f0f1b1358>,\n",
       "  <matplotlib.axis.XTick at 0x19f124e7128>,\n",
       "  <matplotlib.axis.XTick at 0x19f124e7550>,\n",
       "  <matplotlib.axis.XTick at 0x19f124e7a20>,\n",
       "  <matplotlib.axis.XTick at 0x19f124e7ef0>,\n",
       "  <matplotlib.axis.XTick at 0x19f124ec400>,\n",
       "  <matplotlib.axis.XTick at 0x19f124ec8d0>,\n",
       "  <matplotlib.axis.XTick at 0x19f124ecda0>,\n",
       "  <matplotlib.axis.XTick at 0x19f124ec080>,\n",
       "  <matplotlib.axis.XTick at 0x19f124e7080>],\n",
       " <a list of 12 Text xticklabel objects>)"
      ]
     },
     "execution_count": 222,
     "metadata": {},
     "output_type": "execute_result"
    },
    {
     "data": {
      "image/png": "[encoded data removed]",
      "text/plain": [
       "<Figure size 432x288 with 1 Axes>"
      ]
     },
     "metadata": {
      "needs_background": "light"
     },
     "output_type": "display_data"
    }
   ],
   "source": [
    "barWidth = 0.2\n",
    "\n",
    "y1 = transac_ym_count['categ0_count']\n",
    "y2 = transac_ym_count['categ1_count']\n",
    "y3 = transac_ym_count['categ2_count']\n",
    "\n",
    "r1 = [0,1,2,3,4,5,6,7,8,9,10,11]\n",
    "\n",
    "plt.bar(r1, y1, width = barWidth, color = ['yellow' for i in y1], linewidth = 2)\n",
    "\n",
    "plt.bar(r1, y2,bottom = y1,  width = barWidth, color = ['pink' for i in y1], linewidth = 4)\n",
    "\n",
    "plt.bar(r1, y3, bottom = y1 + y2, width = barWidth, color = ['skyblue' for i in y1], linewidth = 6)\n",
    "\n",
    "plt.xticks([r + barWidth / 2 for r in range(len(y1))], transac_ym_count['date'])"
   ]
  },
  {
   "cell_type": "markdown",
   "metadata": {},
   "source": [
    "Volume de transactions mensuel, par catégories. "
   ]
  },
  {
   "cell_type": "markdown",
   "metadata": {},
   "source": [
    "# Mission n°3"
   ]
  },
  {
   "cell_type": "markdown",
   "metadata": {},
   "source": [
    "## 1. Corrélation entre le sexe des clients et les catégories de produits achetés"
   ]
  },
  {
   "cell_type": "code",
   "execution_count": 223,
   "metadata": {},
   "outputs": [],
   "source": [
    "trans = transactions.copy()\n",
    "\n",
    "transactions = transactions.loc[(transactions['client_id'] != 'c_1609') & (transactions['client_id'] !='c_4958') & (transactions['client_id'] !='c_6714') & (transactions['client_id'] !='c_3454')]"
   ]
  },
  {
   "cell_type": "markdown",
   "metadata": {},
   "source": [
    "Nous commençons par étudier la proportion d'hommes et de femmes parmi les acheteurs. "
   ]
  },
  {
   "cell_type": "code",
   "execution_count": 224,
   "metadata": {},
   "outputs": [
    {
     "data": {
      "image/png": "[encoded data removed]",
      "text/plain": [
       "<Figure size 432x288 with 1 Axes>"
      ]
     },
     "metadata": {},
     "output_type": "display_data"
    }
   ],
   "source": [
    "import matplotlib.pyplot as plt\n",
    "\n",
    "labels = 'Mens', 'Womens'\n",
    "sizes = [(100 * transactions['sex'].str.count('m').sum() / transactions['sex'].count()).round(2), (100 * transactions['sex'].str.count('f').sum() / transactions['sex'].count()).round(2)]\n",
    "colors = [ 'lightskyblue' , 'lightcoral']\n",
    "\n",
    "plt.pie(sizes, labels=labels, colors=colors, \n",
    "        autopct='%1.1f%%', shadow=True, startangle=90)\n",
    "\n",
    "plt.axis('equal')\n",
    "plt.title('Buyers gender')\n",
    "plt.show()"
   ]
  },
  {
   "cell_type": "markdown",
   "metadata": {},
   "source": [
    "Nous créons un tableau de contigence pour les variables \"categ\" et \"sex\" :"
   ]
  },
  {
   "cell_type": "code",
   "execution_count": 225,
   "metadata": {},
   "outputs": [
    {
     "data": {
      "text/html": [
       "<div>\n",
       "<style scoped>\n",
       "    .dataframe tbody tr th:only-of-type {\n",
       "        vertical-align: middle;\n",
       "    }\n",
       "\n",
       "    .dataframe tbody tr th {\n",
       "        vertical-align: top;\n",
       "    }\n",
       "\n",
       "    .dataframe thead th {\n",
       "        text-align: right;\n",
       "    }\n",
       "</style>\n",
       "<table border=\"1\" class=\"dataframe\">\n",
       "  <thead>\n",
       "    <tr style=\"text-align: right;\">\n",
       "      <th>categ</th>\n",
       "      <th>0</th>\n",
       "      <th>1</th>\n",
       "      <th>2</th>\n",
       "      <th>Total</th>\n",
       "    </tr>\n",
       "    <tr>\n",
       "      <th>sex</th>\n",
       "      <th></th>\n",
       "      <th></th>\n",
       "      <th></th>\n",
       "      <th></th>\n",
       "    </tr>\n",
       "  </thead>\n",
       "  <tbody>\n",
       "    <tr>\n",
       "      <th>f</th>\n",
       "      <td>101206</td>\n",
       "      <td>53774</td>\n",
       "      <td>8122</td>\n",
       "      <td>163102</td>\n",
       "    </tr>\n",
       "    <tr>\n",
       "      <th>m</th>\n",
       "      <td>94064</td>\n",
       "      <td>48851</td>\n",
       "      <td>7634</td>\n",
       "      <td>150549</td>\n",
       "    </tr>\n",
       "    <tr>\n",
       "      <th>total</th>\n",
       "      <td>195270</td>\n",
       "      <td>102625</td>\n",
       "      <td>15756</td>\n",
       "      <td>313651</td>\n",
       "    </tr>\n",
       "  </tbody>\n",
       "</table>\n",
       "</div>"
      ],
      "text/plain": [
       "categ       0       1      2   Total\n",
       "sex                                 \n",
       "f      101206   53774   8122  163102\n",
       "m       94064   48851   7634  150549\n",
       "total  195270  102625  15756  313651"
      ]
     },
     "execution_count": 225,
     "metadata": {},
     "output_type": "execute_result"
    }
   ],
   "source": [
    "X = transactions['sex']\n",
    "Y = transactions['categ']\n",
    "\n",
    "c = transactions[['sex','categ']].pivot_table(index='sex',columns='categ',aggfunc=len)\n",
    "cont = c.copy()\n",
    "\n",
    "tx = transactions['sex'].value_counts()\n",
    "ty = transactions['categ'].value_counts()\n",
    "\n",
    "cont.loc[:,\"Total\"] = tx\n",
    "cont.loc[\"total\",:] = ty\n",
    "cont.loc[\"total\",\"Total\"] = len(transactions)\n",
    "cont = cont.astype(int)\n",
    "cont"
   ]
  },
  {
   "cell_type": "markdown",
   "metadata": {},
   "source": [
    "Nous créons désormais un tableau de contigence pour l'hypothèse nulle, et une carte de chaleur :"
   ]
  },
  {
   "cell_type": "code",
   "execution_count": 226,
   "metadata": {},
   "outputs": [
    {
     "data": {
      "image/png": "[encoded data removed]",
      "text/plain": [
       "<Figure size 432x288 with 2 Axes>"
      ]
     },
     "metadata": {
      "needs_background": "light"
     },
     "output_type": "display_data"
    },
    {
     "name": "stdout",
     "output_type": "stream",
     "text": [
      "Le chi-2 est de 10.11086551372657\n"
     ]
    }
   ],
   "source": [
    "tx = pd.DataFrame(tx)\n",
    "ty = pd.DataFrame(ty)\n",
    "tx.columns = [\"foo\"]\n",
    "ty.columns = [\"foo\"]\n",
    "n = len(transactions)\n",
    "indep = tx.dot(ty.T) / n\n",
    "indep = indep.reindex([\"f\", \"m\"])\n",
    "\n",
    "mesure = (c-indep)**2/indep\n",
    "xi_n = mesure.sum().sum()\n",
    "sns.heatmap((mesure/xi_n),annot=c)\n",
    "\n",
    "plt.title('gender category contingency chart')\n",
    "plt.xlabel('Category')\n",
    "plt.ylabel('Gender')  \n",
    "\n",
    "plt.show()\n",
    "\n",
    "print('Le chi-2 est de ' + str(xi_n))"
   ]
  },
  {
   "cell_type": "markdown",
   "metadata": {},
   "source": [
    "Cette carte de chaleur nous permet d'observer le composition du chi-2 obs.\n",
    "On peut donc déduire que la corrélation entre les deux variables est la plus fort pour la catégorie et le genre masculin, suivie par la catégorie 1 et le genre féminin. \n",
    "\n",
    "Nous allons donc étudier plus clairement cette corrélation au travers de la statistique du chi-2."
   ]
  },
  {
   "cell_type": "code",
   "execution_count": 227,
   "metadata": {
    "scrolled": false
   },
   "outputs": [
    {
     "name": "stdout",
     "output_type": "stream",
     "text": [
      "10.110865513726571\n",
      "2\n",
      "0.006374607510181767\n"
     ]
    }
   ],
   "source": [
    "from scipy.stats import chi2_contingency\n",
    "import matplotlib.pyplot as plt\n",
    "\n",
    "st_chi2, st_p, st_dof, st_exp = st.chi2_contingency(c)\n",
    "\n",
    "print(st_chi2)\n",
    "print(st_dof)\n",
    "print(st_p)"
   ]
  },
  {
   "cell_type": "markdown",
   "metadata": {},
   "source": [
    "Nous étudions le degré de signification (P value) trouvé ici en comparant le chi-2 obs établi à 10.111 et le chi-2 seuil  observable dans une table des valeurs critiques de la loi du chi-2 pour une erreur standard de 5% sachant que nous avons 2 degrés de liberté, il est de 5,991. \n",
    "\n",
    "Le chi-2 obs est supérieur au chi-2 seuil, on peut rejetter l'hypothèse nulle, il n y a que 0,64% de chance d'obtenir ce résultat par le hasard, sous H0.\n",
    "\n",
    "Les variables sex et catégorie sont corrélées."
   ]
  },
  {
   "cell_type": "code",
   "execution_count": 228,
   "metadata": {},
   "outputs": [
    {
     "data": {
      "text/plain": [
       "([<matplotlib.axis.XTick at 0x19f16623c88>,\n",
       "  <matplotlib.axis.XTick at 0x19f16624ba8>,\n",
       "  <matplotlib.axis.XTick at 0x19f16624128>],\n",
       " <a list of 3 Text xticklabel objects>)"
      ]
     },
     "execution_count": 228,
     "metadata": {},
     "output_type": "execute_result"
    },
    {
     "data": {
      "image/png": "[encoded data removed]",
      "text/plain": [
       "<Figure size 432x288 with 1 Axes>"
      ]
     },
     "metadata": {
      "needs_background": "light"
     },
     "output_type": "display_data"
    }
   ],
   "source": [
    "transactions_f = transactions[transactions['sex'] == 'f']\n",
    "transactions_f_ym = transactions_f.groupby('date_ym').count().reset_index()\n",
    "transactions_f_ym = transactions_f_ym[['date_ym', 'session_id']]\n",
    "transactions_f_ym.columns = ['date', 'transactions_f']\n",
    "\n",
    "transactions_m = transactions[transactions['sex'] == 'm']\n",
    "transactions_m_ym = transactions_m.groupby('date_ym').count().reset_index()\n",
    "transactions_m_ym = transactions_m_ym[['date_ym', 'session_id']]\n",
    "transactions_m_ym.columns = ['date', 'transactions_m']\n",
    "\n",
    "\n",
    "transactions_m_categ = transactions_m.groupby('categ').count()\n",
    "transactions_m_categ = transactions_m_categ[['price']].reset_index()\n",
    "transactions_m_categ.columns = ['categ','turnover_m']\n",
    "\n",
    "\n",
    "transactions_f_categ = transactions_f.groupby('categ').count()\n",
    "transactions_f_categ = transactions_f_categ[['price']].reset_index()\n",
    "transactions_f_categ.columns = ['categ','turnover_f']\n",
    "\n",
    "barWidth = 0.2\n",
    "\n",
    "y1 = transactions_m_categ['turnover_m']\n",
    "y2 = transactions_f_categ['turnover_f']\n",
    "\n",
    "r1 = [0,1,2]\n",
    "r2 = [x + barWidth for x in r1]\n",
    "\n",
    "plt.bar(r1, y1, width = barWidth, color = ['lightskyblue' for i in y1], linewidth = 2,label=\"Men\")\n",
    "\n",
    "plt.bar(r2, y2, width = barWidth, color = [  'lightcoral' for i in y1], linewidth = 4, label=\"Women\")\n",
    "\n",
    "plt.title('Turnover by gender')\n",
    "plt.xlabel('Category')\n",
    "plt.ylabel('Turnover')  \n",
    "\n",
    "plt.legend(labels,bbox_to_anchor=(1.05, 1), borderaxespad=0., loc=2)\n",
    "\n",
    "plt.xticks([r + barWidth / 2 for r in range(len(y1))], transactions_m_categ['categ'])"
   ]
  },
  {
   "cell_type": "markdown",
   "metadata": {},
   "source": [
    "## 2. Corrélations entre l'âge des clients et :"
   ]
  },
  {
   "cell_type": "markdown",
   "metadata": {},
   "source": [
    "\n",
    "### a. Le montant total des achats"
   ]
  },
  {
   "cell_type": "markdown",
   "metadata": {},
   "source": [
    "Nous représentons, par un nuage de point le rapport entre l'age et les dépenses des clients."
   ]
  },
  {
   "cell_type": "code",
   "execution_count": 229,
   "metadata": {},
   "outputs": [
    {
     "data": {
      "image/png": "[encoded data removed]",
      "text/plain": [
       "<Figure size 432x288 with 1 Axes>"
      ]
     },
     "metadata": {
      "needs_background": "light"
     },
     "output_type": "display_data"
    }
   ],
   "source": [
    "transac_client = transactions.groupby('client_id').sum().reset_index()\n",
    "transac_client = transac_client[['client_id','price']]\n",
    "\n",
    "transac_client = transac_client.merge(transactions[['client_id','birth']], how='right', on=['client_id'])\n",
    "\n",
    "transac_client = transac_client[['client_id','birth','price']].drop_duplicates()\n",
    "\n",
    "transac_client = transac_client.loc[(transac_client['client_id'] != 'c_1609') & (transac_client['client_id'] !='c_4958') & (transac_client['client_id'] !='c_6714') & (transac_client['client_id'] !='c_3454') & (transac_client['birth'] <2004)]\n",
    "\n",
    "transac_client['age'] =  2022 - transac_client['birth'] \n",
    "\n",
    "plt.plot(transac_client[\"age\"],transac_client[\"price\"],'o',alpha=0.5,label= \"Younger customers\")\n",
    "\n",
    "plt.xlabel(\"age\")\n",
    "plt.ylabel(\"spent\")\n",
    "plt.title('Age and expenses')\n",
    "\n",
    "plt.show()"
   ]
  },
  {
   "cell_type": "markdown",
   "metadata": {},
   "source": [
    "La distribution semble très différente avant 50 ans et après 50 ans et globalement non linéaire, aussi, nous allons analyser séparément ces deux échantillons : "
   ]
  },
  {
   "cell_type": "code",
   "execution_count": 230,
   "metadata": {},
   "outputs": [],
   "source": [
    "def lingress_summary(x,y):\n",
    "    \n",
    "    slope, intercept, r_value, p_value, std_err = linregress(x, y)   \n",
    "    pearsonr = st.pearsonr(x,y)[0]\n",
    "    \n",
    "    print(\"slope: %f\" % (slope))\n",
    "    print(\"intercept: %f\" % (intercept))\n",
    "    print(\"pearson_correlation_coefficient: %f\" % (r_value))\n",
    "    print(\"r-squared: %f\" % (r_value**2))\n",
    "    print(\"p_value: %f\" % (p_value))\n",
    "    print(\"std_err: %f\" % (std_err))"
   ]
  },
  {
   "cell_type": "code",
   "execution_count": 231,
   "metadata": {},
   "outputs": [
    {
     "data": {
      "image/png": "[encoded data removed]",
      "text/plain": [
       "<Figure size 432x288 with 1 Axes>"
      ]
     },
     "metadata": {
      "needs_background": "light"
     },
     "output_type": "display_data"
    },
    {
     "name": "stdout",
     "output_type": "stream",
     "text": [
      "Régression linéaire pour les clients les plus jeunes : \n",
      "\n",
      "slope: 0.001779\n",
      "intercept: 33.676173\n",
      "pearson_correlation_coefficient: 0.097744\n",
      "r-squared: 0.009554\n",
      "p_value: 0.000000\n",
      "std_err: 0.000251\n",
      "\n",
      "\n",
      "Régression linéaire pour les clients les plus âgés : \n",
      "\n",
      "slope: -0.000959\n",
      "intercept: 63.360037\n",
      "pearson_correlation_coefficient: -0.033147\n",
      "r-squared: 0.001099\n",
      "p_value: 0.071126\n",
      "std_err: 0.000531\n"
     ]
    }
   ],
   "source": [
    "from scipy.stats import linregress\n",
    "\n",
    "transac_client_young = transac_client.loc[transac_client['age'] <=50]\n",
    "transac_client_old = transac_client.loc[transac_client['age']  > 50]\n",
    "\n",
    "plt.plot(transac_client_young[\"age\"],transac_client_young[\"price\"],'o',alpha=0.5,label= \"Younger customers\")\n",
    "plt.plot(transac_client_old[\"age\"],transac_client_old[\"price\"],'o',alpha=0.5,label= \"Older customers\")\n",
    "\n",
    "Y1 = transac_client_young['price']\n",
    "X1 = transac_client_young[['age']]\n",
    "X1 = X1.copy()\n",
    "X1['intercept'] = 1.\n",
    "result = sm.OLS(Y1, X1).fit()\n",
    "a1,b1 = result.params['age'],result.params['intercept']\n",
    "plt.plot(np.arange(18,51),[a1*x+b1 for x in np.arange(18,51)])\n",
    "\n",
    "Y2 = transac_client_old['price']\n",
    "X2 = transac_client_old[['age']]\n",
    "X2 = X2.copy()\n",
    "X2['intercept'] = 1.\n",
    "result = sm.OLS(Y2, X2).fit()\n",
    "a2,b2 = result.params['age'],result.params['intercept']\n",
    "plt.plot(np.arange(51,94),[a2*x+b2 for x in np.arange(51,94)])\n",
    "\n",
    "plt.xlabel(\"age\")\n",
    "plt.ylabel(\"spent\")\n",
    "plt.title('Age and expenses')\n",
    "plt.legend(bbox_to_anchor=(1.05, 1), borderaxespad=0., loc=2)\n",
    "\n",
    "plt.show()\n",
    "\n",
    "slope, intercept, r_value, p_value, std_err = linregress(transac_client_young['price'],transac_client_young['age'])   \n",
    "\n",
    "print('Régression linéaire pour les clients les plus jeunes : ')\n",
    "print('')\n",
    "lingress_summary(transac_client_young['price'],transac_client_young['age'])\n",
    "print('')\n",
    "print('')\n",
    "print('Régression linéaire pour les clients les plus âgés : ')\n",
    "print('')\n",
    "lingress_summary(transac_client_old['price'],transac_client_old['age'])"
   ]
  },
  {
   "cell_type": "markdown",
   "metadata": {},
   "source": [
    "Pour les __clients les plus jeunes__, on constate une __p_value__ très faible. On considère de manière classique qu'une p value inférieure à __0.01__ indique une très forte présomption contre l'hypothèse nulle, or, ici, elle est bien inférieure à ce seuil. \n",
    "Le __coefficient de corrélation de Pearson__ est faible, environ 0.01, ceci indique une légère corrélation entre les deux variables.\n",
    "Enfin, le __coefficient de détermination__ est très bas, la droite de régression n'explique que très peu la distribution des points. On constate effectivement une importante dispersion des points autour de la droite. \n",
    "\n",
    "Pour les __clients les plus âgés__,  la __p_value__ est entre 0.05 et 0.1, il y a donc une faible présomption contre l'hypothèse nulle. \n",
    "Le __coefficient de corrélation de Pearson__ est bas, la corrélation négative entre les deux variables l'est donc tout autant.\n",
    "Par conséquent, le __coefficient de détermination__ est également bas, ce qui témoigne d'une importante dispersion autour de la droite de régression. \n",
    "\n",
    "En somme, il existe bien une corrélation entre les deux variables mais elle est faible et non linéaire. Cette corrélation est plus importante pour les clients des moins de 50 ans que pour ceux ayants plus de 50 ans. De plus, elle est positive avant 50 ans et négative après cet âge. "
   ]
  },
  {
   "cell_type": "markdown",
   "metadata": {},
   "source": [
    "### b. La fréquence d'achat "
   ]
  },
  {
   "cell_type": "markdown",
   "metadata": {},
   "source": [
    "__Mensuel__"
   ]
  },
  {
   "cell_type": "code",
   "execution_count": 232,
   "metadata": {},
   "outputs": [
    {
     "data": {
      "image/png": "[encoded data removed]",
      "text/plain": [
       "<Figure size 432x288 with 1 Axes>"
      ]
     },
     "metadata": {
      "needs_background": "light"
     },
     "output_type": "display_data"
    },
    {
     "name": "stdout",
     "output_type": "stream",
     "text": [
      "Régression linéaire pour les clients qui ont entre 18 ans et 30 ans : \n",
      "\n",
      "slope: 0.001928\n",
      "intercept: 24.729799\n",
      "pearson_correlation_coefficient: 0.000581\n",
      "r-squared: 0.000000\n",
      "p_value: 0.980177\n",
      "std_err: 0.077571\n",
      "\n",
      "\n",
      "Régression linéaire pour les clients qui ont entre 31 ans et 50 ans: \n",
      "\n",
      "slope: -0.023403\n",
      "intercept: 40.643622\n",
      "pearson_correlation_coefficient: -0.012091\n",
      "r-squared: 0.000146\n",
      "p_value: 0.483205\n",
      "std_err: 0.033374\n",
      "\n",
      "\n",
      "Régression linéaire pour les clients qui ont entre 51 ans et 94 ans: \n",
      "\n",
      "slope: -0.185494\n",
      "intercept: 63.498431\n",
      "pearson_correlation_coefficient: -0.026552\n",
      "r-squared: 0.000705\n",
      "p_value: 0.148326\n",
      "std_err: 0.128294\n"
     ]
    }
   ],
   "source": [
    "frequency = transactions.groupby(['client_id','date_ym']).size().reset_index()\n",
    "frequency.columns = ['client_id', 'date_ym', 'frequency']\n",
    "frequency= frequency.groupby('client_id').mean()\n",
    "frequency['frequency'] = frequency['frequency'].round(2)\n",
    "frequency= frequency.merge(transac_client[['client_id','age']], how ='inner', on=['client_id'])\n",
    "\n",
    "X1 = frequency[['age']].loc[(frequency['age'] <= 30)]\n",
    "Y1 = frequency[\"frequency\"].loc[(frequency['age'] <= 30)]\n",
    "\n",
    "X2 = frequency[['age']].loc[(frequency['age'] > 30) & (frequency['age'] <= 50)]\n",
    "Y2 = frequency[\"frequency\"].loc[(frequency['age'] > 30) & (frequency['age'] <= 50)]\n",
    "\n",
    "X3 = frequency[['age']].loc[(frequency['age'] > 50)]\n",
    "Y3 = frequency[\"frequency\"].loc[(frequency['age'] > 50)]\n",
    "\n",
    "plt.plot(X1, Y1,'o',alpha=0.5,label= 'Under 30')\n",
    "plt.plot(X2,Y2,'o',alpha=0.5, label = \"Between 30 & 50\")\n",
    "plt.plot(X3,Y3,'o',alpha=0.5, label = \"Over 50\")\n",
    "\n",
    "X1 = X1.copy()\n",
    "X1['intercept'] = 1.\n",
    "result = sm.OLS(Y1, X1).fit()\n",
    "a1,b1 = result.params['age'],result.params['intercept']\n",
    "plt.plot(np.arange(18,30),[a1*x+b1 for x in np.arange(18,30)])\n",
    "\n",
    "X2 = X2.copy()\n",
    "X2['intercept'] = 1.\n",
    "result = sm.OLS(Y2, X2).fit()\n",
    "a2,b2 = result.params['age'],result.params['intercept']\n",
    "plt.plot(np.arange(31,50),[a2*x+b2 for x in np.arange(31,50)])\n",
    "\n",
    "X3 = X3.copy()\n",
    "X3['intercept'] = 1.\n",
    "result = sm.OLS(Y3, X3).fit()\n",
    "a3,b3 = result.params['age'],result.params['intercept']\n",
    "plt.plot(np.arange(51,94),[a3*x+b3 for x in np.arange(51,94)])\n",
    "\n",
    "plt.xlabel(\"age\")\n",
    "plt.ylabel(\"transactions frequency\")\n",
    "plt.title('Age and transactions frequency')\n",
    "plt.legend(bbox_to_anchor=(1.05, 1), borderaxespad=0., loc=2)\n",
    "\n",
    "plt.show()\n",
    "\n",
    "print('Régression linéaire pour les clients qui ont entre 18 ans et 30 ans : ')\n",
    "print('')\n",
    "lingress_summary(Y1, frequency['age'].loc[(frequency['age'] <= 30)])\n",
    "print('')\n",
    "print('')\n",
    "print('Régression linéaire pour les clients qui ont entre 31 ans et 50 ans: ')\n",
    "print('')\n",
    "lingress_summary(Y2,frequency['age'].loc[(frequency['age'] > 30) & (frequency['age'] <= 50)])\n",
    "print('')\n",
    "print('')\n",
    "print('Régression linéaire pour les clients qui ont entre 51 ans et 94 ans: ')\n",
    "print('')\n",
    "lingress_summary(Y3,frequency['age'].loc[(frequency['age'] > 50)])"
   ]
  },
  {
   "cell_type": "markdown",
   "metadata": {},
   "source": [
    "Nous constatons 3 tendances pour la distribution, en fonction de l'âge du client. \n",
    "\n",
    "Néanmoins, ce constat basé sur l'observation du nuage de point ne se vérifi pas par l'étude de régressions linéaires. \n",
    "\n",
    "En effet, la distribution de l'échantillon complet est non linéaire.\n",
    "\n",
    "Pour le sous-échantillon des __clients âgés de moins de 31 ans__ la p value est très élevées, __l'hypothèse nulle est très probable__.\n",
    "Le coefficient de corrélation de Pearson est très faible, les deux variables donc __peu corrélée__.\n",
    "Le coefficient de détermination est lui aussi bas ce qui témoigne d'une __grande dispersion des points par rapport à la droite de régression__. \n",
    "\n",
    "Pour le sous-échantillon des clients ____âgés de plus de 30 ans et de moins de 51 ans__, nous avons encore une p value qui laisse penser que __l'hypotthèse nulle est envisageable__.\n",
    "On constate une __très légère corrélation négative__ d'après le coefficient de corrélation de Pearson.\n",
    "Enfin, le coefficient de détermination nous laisse comprendre qu'il y a une __forte dispersion du nuage de point autour de la droite de régression__. \n",
    "\n",
    "Pour le sous-échantillon des clients __âgés de plus de plus de 51 ans__, nous avons toujours une p value qui laisse penser que __l'hypotthèse nulle est envisageable__.\n",
    "On constate une __très légère corrélation négative__ d'après le coefficient de corrélation de Pearson.\n",
    "Enfin, le coefficient de détermination nous laisse comprendre qu'il y a une forte __dispersion du nuage de point autour de la droite de régression__. \n",
    "Des trois sous-échantillons, c'est celui dans lequel il y a la plus haute possibilité qu'une corrélation soit avérée. "
   ]
  },
  {
   "cell_type": "code",
   "execution_count": 233,
   "metadata": {},
   "outputs": [
    {
     "data": {
      "image/png": "[encoded data removed]",
      "text/plain": [
       "<Figure size 432x288 with 1 Axes>"
      ]
     },
     "metadata": {
      "needs_background": "light"
     },
     "output_type": "display_data"
    },
    {
     "name": "stdout",
     "output_type": "stream",
     "text": [
      "Fréquence d'achat pour les clients agés de moins de 30 ans :\n",
      "\n",
      "count    1829.000000\n",
      "mean        2.608857\n",
      "std         1.041972\n",
      "min         1.000000\n",
      "25%         1.860000\n",
      "50%         2.500000\n",
      "75%         3.200000\n",
      "max        10.000000\n",
      "Name: frequency, dtype: float64\n",
      "\n",
      "Fréquence d'achat pour les clients agés de moins de 50 ans :\n",
      "\n",
      "count    3365.000000\n",
      "mean        5.863914\n",
      "std         2.886838\n",
      "min         1.000000\n",
      "25%         3.700000\n",
      "50%         5.080000\n",
      "75%         7.360000\n",
      "max        17.730000\n",
      "Name: frequency, dtype: float64\n",
      "\n",
      "Fréquence d'achat pour les clients de plus de 50 ans :\n",
      "\n",
      "count    2965.000000\n",
      "mean        3.085238\n",
      "std         1.325757\n",
      "min         1.000000\n",
      "25%         2.000000\n",
      "50%         2.860000\n",
      "75%         3.900000\n",
      "max         8.750000\n",
      "Name: frequency, dtype: float64\n"
     ]
    }
   ],
   "source": [
    "medianprops = {'color':\"black\"}\n",
    "meanprops = {'marker':'o', 'markeredgecolor':'black',\n",
    "            'markerfacecolor':'firebrick'}\n",
    "plt.boxplot([  frequency[\"frequency\"].loc[(frequency['age'] <= 30)], frequency[\"frequency\"].loc[(frequency['age'] > 30) & (frequency['age'] <= 50)], frequency[\"frequency\"].loc[(frequency['age'] > 50)]],patch_artist=True, showmeans=True, medianprops = medianprops ,meanprops = meanprops)\n",
    "\n",
    "plt.gca().xaxis.set_ticklabels(['Under 30', \"Between 30 & 50\", \"Over 50\"])\n",
    "\n",
    "plt.ylabel('Purchase frequency')\n",
    "\n",
    "plt.grid(b=None, which='major', axis='both')\n",
    "\n",
    "plt.show()\n",
    "\n",
    "print(\"Fréquence d'achat pour les clients agés de moins de 30 ans :\")\n",
    "print('')\n",
    "print(frequency[\"frequency\"].loc[(frequency['age'] <= 30)].describe())\n",
    "print('')\n",
    "print(\"Fréquence d'achat pour les clients agés de moins de 50 ans :\")\n",
    "print('')\n",
    "print(frequency[\"frequency\"].loc[(frequency['age'] > 30) & (frequency['age'] <= 50)].describe())\n",
    "print('')\n",
    "print(\"Fréquence d'achat pour les clients de plus de 50 ans :\")\n",
    "print('')\n",
    "print(frequency[\"frequency\"].loc[(frequency['age'] > 50)].describe())"
   ]
  },
  {
   "cell_type": "markdown",
   "metadata": {},
   "source": [
    "Les clients qui ont entre 30 et 50 ans font des achats plus fréquents que ceux appartenant aux deux autres catégories. \n",
    "\n",
    "Cette diffèrence est notable et elle se vérifie au niveau de la moyenne, de la médianne et de la dispersion des séries. "
   ]
  },
  {
   "cell_type": "markdown",
   "metadata": {},
   "source": [
    "### c. La taille du panier moyen"
   ]
  },
  {
   "cell_type": "code",
   "execution_count": 234,
   "metadata": {},
   "outputs": [
    {
     "data": {
      "image/png": "[encoded data removed]",
      "text/plain": [
       "<Figure size 432x288 with 1 Axes>"
      ]
     },
     "metadata": {
      "needs_background": "light"
     },
     "output_type": "display_data"
    },
    {
     "name": "stdout",
     "output_type": "stream",
     "text": [
      "Régression linéaire pour les clients qui ont entre 18 ans et 30 ans : \n",
      "\n",
      "slope: 0.068760\n",
      "intercept: 23.310456\n",
      "pearson_correlation_coefficient: 0.010993\n",
      "r-squared: 0.000121\n",
      "p_value: 0.600962\n",
      "std_err: 0.131449\n",
      "\n",
      "\n",
      "Régression linéaire pour les clients qui ont entre 31 ans et 50 ans: \n",
      "\n"
     ]
    },
    {
     "ename": "ValueError",
     "evalue": "all the input array dimensions except for the concatenation axis must match exactly",
     "output_type": "error",
     "traceback": [
      "\u001b[1;31m---------------------------------------------------------------------------\u001b[0m",
      "\u001b[1;31mValueError\u001b[0m                                Traceback (most recent call last)",
      "\u001b[1;32m<ipython-input-234-0f4dc79843c5>\u001b[0m in \u001b[0;36m<module>\u001b[1;34m\u001b[0m\n\u001b[0;32m     49\u001b[0m \u001b[0mprint\u001b[0m\u001b[1;33m(\u001b[0m\u001b[1;34m'Régression linéaire pour les clients qui ont entre 31 ans et 50 ans: '\u001b[0m\u001b[1;33m)\u001b[0m\u001b[1;33m\u001b[0m\u001b[1;33m\u001b[0m\u001b[0m\n\u001b[0;32m     50\u001b[0m \u001b[0mprint\u001b[0m\u001b[1;33m(\u001b[0m\u001b[1;34m''\u001b[0m\u001b[1;33m)\u001b[0m\u001b[1;33m\u001b[0m\u001b[1;33m\u001b[0m\u001b[0m\n\u001b[1;32m---> 51\u001b[1;33m \u001b[0mlingress_summary\u001b[0m\u001b[1;33m(\u001b[0m\u001b[0mY2\u001b[0m\u001b[1;33m,\u001b[0m \u001b[0maverage_purchases\u001b[0m\u001b[1;33m[\u001b[0m\u001b[1;34m'age'\u001b[0m\u001b[1;33m]\u001b[0m\u001b[1;33m.\u001b[0m\u001b[0mloc\u001b[0m\u001b[1;33m[\u001b[0m\u001b[1;33m(\u001b[0m\u001b[0maverage_purchases\u001b[0m\u001b[1;33m[\u001b[0m\u001b[1;34m'age'\u001b[0m\u001b[1;33m]\u001b[0m \u001b[1;33m<=\u001b[0m \u001b[1;36m30\u001b[0m\u001b[1;33m)\u001b[0m\u001b[1;33m]\u001b[0m\u001b[1;33m)\u001b[0m\u001b[1;33m\u001b[0m\u001b[1;33m\u001b[0m\u001b[0m\n\u001b[0m\u001b[0;32m     52\u001b[0m \u001b[0mprint\u001b[0m\u001b[1;33m(\u001b[0m\u001b[1;34m''\u001b[0m\u001b[1;33m)\u001b[0m\u001b[1;33m\u001b[0m\u001b[1;33m\u001b[0m\u001b[0m\n\u001b[0;32m     53\u001b[0m \u001b[0mprint\u001b[0m\u001b[1;33m(\u001b[0m\u001b[1;34m''\u001b[0m\u001b[1;33m)\u001b[0m\u001b[1;33m\u001b[0m\u001b[1;33m\u001b[0m\u001b[0m\n",
      "\u001b[1;32m<ipython-input-230-d8136fd9b99f>\u001b[0m in \u001b[0;36mlingress_summary\u001b[1;34m(x, y)\u001b[0m\n\u001b[0;32m      1\u001b[0m \u001b[1;32mdef\u001b[0m \u001b[0mlingress_summary\u001b[0m\u001b[1;33m(\u001b[0m\u001b[0mx\u001b[0m\u001b[1;33m,\u001b[0m\u001b[0my\u001b[0m\u001b[1;33m)\u001b[0m\u001b[1;33m:\u001b[0m\u001b[1;33m\u001b[0m\u001b[1;33m\u001b[0m\u001b[0m\n\u001b[0;32m      2\u001b[0m \u001b[1;33m\u001b[0m\u001b[0m\n\u001b[1;32m----> 3\u001b[1;33m     \u001b[0mslope\u001b[0m\u001b[1;33m,\u001b[0m \u001b[0mintercept\u001b[0m\u001b[1;33m,\u001b[0m \u001b[0mr_value\u001b[0m\u001b[1;33m,\u001b[0m \u001b[0mp_value\u001b[0m\u001b[1;33m,\u001b[0m \u001b[0mstd_err\u001b[0m \u001b[1;33m=\u001b[0m \u001b[0mlinregress\u001b[0m\u001b[1;33m(\u001b[0m\u001b[0mx\u001b[0m\u001b[1;33m,\u001b[0m \u001b[0my\u001b[0m\u001b[1;33m)\u001b[0m\u001b[1;33m\u001b[0m\u001b[1;33m\u001b[0m\u001b[0m\n\u001b[0m\u001b[0;32m      4\u001b[0m     \u001b[0mpearsonr\u001b[0m \u001b[1;33m=\u001b[0m \u001b[0mst\u001b[0m\u001b[1;33m.\u001b[0m\u001b[0mpearsonr\u001b[0m\u001b[1;33m(\u001b[0m\u001b[0mx\u001b[0m\u001b[1;33m,\u001b[0m\u001b[0my\u001b[0m\u001b[1;33m)\u001b[0m\u001b[1;33m[\u001b[0m\u001b[1;36m0\u001b[0m\u001b[1;33m]\u001b[0m\u001b[1;33m\u001b[0m\u001b[1;33m\u001b[0m\u001b[0m\n\u001b[0;32m      5\u001b[0m \u001b[1;33m\u001b[0m\u001b[0m\n",
      "\u001b[1;32m~\\AppData\\Local\\Continuum\\anaconda3\\lib\\site-packages\\scipy\\stats\\_stats_mstats_common.py\u001b[0m in \u001b[0;36mlinregress\u001b[1;34m(x, y)\u001b[0m\n\u001b[0;32m     91\u001b[0m \u001b[1;33m\u001b[0m\u001b[0m\n\u001b[0;32m     92\u001b[0m     \u001b[1;31m# average sum of squares:\u001b[0m\u001b[1;33m\u001b[0m\u001b[1;33m\u001b[0m\u001b[1;33m\u001b[0m\u001b[0m\n\u001b[1;32m---> 93\u001b[1;33m     \u001b[0mssxm\u001b[0m\u001b[1;33m,\u001b[0m \u001b[0mssxym\u001b[0m\u001b[1;33m,\u001b[0m \u001b[0mssyxm\u001b[0m\u001b[1;33m,\u001b[0m \u001b[0mssym\u001b[0m \u001b[1;33m=\u001b[0m \u001b[0mnp\u001b[0m\u001b[1;33m.\u001b[0m\u001b[0mcov\u001b[0m\u001b[1;33m(\u001b[0m\u001b[0mx\u001b[0m\u001b[1;33m,\u001b[0m \u001b[0my\u001b[0m\u001b[1;33m,\u001b[0m \u001b[0mbias\u001b[0m\u001b[1;33m=\u001b[0m\u001b[1;36m1\u001b[0m\u001b[1;33m)\u001b[0m\u001b[1;33m.\u001b[0m\u001b[0mflat\u001b[0m\u001b[1;33m\u001b[0m\u001b[1;33m\u001b[0m\u001b[0m\n\u001b[0m\u001b[0;32m     94\u001b[0m     \u001b[0mr_num\u001b[0m \u001b[1;33m=\u001b[0m \u001b[0mssxym\u001b[0m\u001b[1;33m\u001b[0m\u001b[1;33m\u001b[0m\u001b[0m\n\u001b[0;32m     95\u001b[0m     \u001b[0mr_den\u001b[0m \u001b[1;33m=\u001b[0m \u001b[0mnp\u001b[0m\u001b[1;33m.\u001b[0m\u001b[0msqrt\u001b[0m\u001b[1;33m(\u001b[0m\u001b[0mssxm\u001b[0m \u001b[1;33m*\u001b[0m \u001b[0mssym\u001b[0m\u001b[1;33m)\u001b[0m\u001b[1;33m\u001b[0m\u001b[1;33m\u001b[0m\u001b[0m\n",
      "\u001b[1;32m~\\AppData\\Local\\Continuum\\anaconda3\\lib\\site-packages\\numpy\\lib\\function_base.py\u001b[0m in \u001b[0;36mcov\u001b[1;34m(m, y, rowvar, bias, ddof, fweights, aweights)\u001b[0m\n\u001b[0;32m   2259\u001b[0m         \u001b[1;32mif\u001b[0m \u001b[1;32mnot\u001b[0m \u001b[0mrowvar\u001b[0m \u001b[1;32mand\u001b[0m \u001b[0my\u001b[0m\u001b[1;33m.\u001b[0m\u001b[0mshape\u001b[0m\u001b[1;33m[\u001b[0m\u001b[1;36m0\u001b[0m\u001b[1;33m]\u001b[0m \u001b[1;33m!=\u001b[0m \u001b[1;36m1\u001b[0m\u001b[1;33m:\u001b[0m\u001b[1;33m\u001b[0m\u001b[1;33m\u001b[0m\u001b[0m\n\u001b[0;32m   2260\u001b[0m             \u001b[0my\u001b[0m \u001b[1;33m=\u001b[0m \u001b[0my\u001b[0m\u001b[1;33m.\u001b[0m\u001b[0mT\u001b[0m\u001b[1;33m\u001b[0m\u001b[1;33m\u001b[0m\u001b[0m\n\u001b[1;32m-> 2261\u001b[1;33m         \u001b[0mX\u001b[0m \u001b[1;33m=\u001b[0m \u001b[0mnp\u001b[0m\u001b[1;33m.\u001b[0m\u001b[0mconcatenate\u001b[0m\u001b[1;33m(\u001b[0m\u001b[1;33m(\u001b[0m\u001b[0mX\u001b[0m\u001b[1;33m,\u001b[0m \u001b[0my\u001b[0m\u001b[1;33m)\u001b[0m\u001b[1;33m,\u001b[0m \u001b[0maxis\u001b[0m\u001b[1;33m=\u001b[0m\u001b[1;36m0\u001b[0m\u001b[1;33m)\u001b[0m\u001b[1;33m\u001b[0m\u001b[1;33m\u001b[0m\u001b[0m\n\u001b[0m\u001b[0;32m   2262\u001b[0m \u001b[1;33m\u001b[0m\u001b[0m\n\u001b[0;32m   2263\u001b[0m     \u001b[1;32mif\u001b[0m \u001b[0mddof\u001b[0m \u001b[1;32mis\u001b[0m \u001b[1;32mNone\u001b[0m\u001b[1;33m:\u001b[0m\u001b[1;33m\u001b[0m\u001b[1;33m\u001b[0m\u001b[0m\n",
      "\u001b[1;31mValueError\u001b[0m: all the input array dimensions except for the concatenation axis must match exactly"
     ]
    }
   ],
   "source": [
    "transactions['age'] = 2022 - transactions['birth']\n",
    "\n",
    "average_purchases = transactions.groupby(['client_id','session_id']).count().groupby('client_id').mean()[['date']].reset_index()\n",
    "average_purchases.columns = ['client_id','average_purchases']\n",
    "average_purchases['average_purchases'] = average_purchases['average_purchases'].round(2)\n",
    "\n",
    "average_purchases = average_purchases.merge(transactions[['client_id','age']].drop_duplicates(), how='inner', on=['client_id'])\n",
    "\n",
    "plt.plot(average_purchases[\"age\"].loc[(average_purchases['age'] <= 30)],average_purchases[\"average_purchases\"].loc[(average_purchases['age'] <= 30)],'o',alpha=0.5,label= 'Under 30')\n",
    "plt.plot(average_purchases[\"age\"].loc[(average_purchases['age'] > 30) & (average_purchases['age'] <= 50)],average_purchases[\"average_purchases\"].loc[(average_purchases['age'] > 30) & (average_purchases['age'] <= 50)],'o',alpha=0.5,label = \"Between 30 & 50\")\n",
    "plt.plot(average_purchases[\"age\"].loc[(average_purchases['age'] > 50)],average_purchases[\"average_purchases\"].loc[(average_purchases['age'] > 50)],'o',alpha=0.5, label = \"Over 50\")\n",
    "\n",
    "X1 = average_purchases[['age']].loc[(average_purchases['age'] <= 30)]\n",
    "Y1 = average_purchases[\"average_purchases\"].loc[(average_purchases['age'] <= 30)]\n",
    "X1 = X1.copy()\n",
    "X1['intercept'] = 1.\n",
    "result = sm.OLS(Y1, X1).fit()\n",
    "a1,b1 = result.params['age'],result.params['intercept']\n",
    "plt.plot(np.arange(18,30),[a1*x+b1 for x in np.arange(18,30)])\n",
    "\n",
    "X2 = average_purchases[['age']].loc[(average_purchases['age'] > 30) & (average_purchases['age'] <= 50)]\n",
    "Y2 = average_purchases[\"average_purchases\"].loc[(average_purchases['age'] > 30) & (average_purchases['age'] <= 50)]\n",
    "X2 = X2.copy()\n",
    "X2['intercept'] = 1.\n",
    "result = sm.OLS(Y2, X2).fit()\n",
    "a2,b2 = result.params['age'],result.params['intercept']\n",
    "plt.plot(np.arange(31,50),[a2*x+b2 for x in np.arange(31,50)])\n",
    "\n",
    "X3 = average_purchases[['age']].loc[(average_purchases['age'] > 50)]\n",
    "Y3 = average_purchases[\"average_purchases\"].loc[(average_purchases['age'] > 50)]\n",
    "X3 = X3.copy()\n",
    "X3['intercept'] = 1.\n",
    "result = sm.OLS(Y3, X3).fit()\n",
    "a3,b3 = result.params['age'],result.params['intercept']\n",
    "plt.plot(np.arange(51,94),[a3*x+b3 for x in np.arange(51,94)])\n",
    "\n",
    "plt.xlabel(\"age\")\n",
    "plt.ylabel(\"average_purchases\")\n",
    "plt.title('Age and average_purchases')\n",
    "plt.legend(bbox_to_anchor=(1.05, 1), borderaxespad=0., loc=2)\n",
    "\n",
    "plt.show()\n",
    "\n",
    "print('Régression linéaire pour les clients qui ont entre 18 ans et 30 ans : ')\n",
    "print('')\n",
    "lingress_summary(Y1, average_purchases['age'].loc[(average_purchases['age'] <= 30)])\n",
    "print('')\n",
    "print('')\n",
    "print('Régression linéaire pour les clients qui ont entre 31 ans et 50 ans: ')\n",
    "print('')\n",
    "lingress_summary(Y2, average_purchases['age'].loc[(average_purchases['age'] <= 30)])\n",
    "print('')\n",
    "print('')\n",
    "print('Régression linéaire pour les clients qui ont entre 51 ans et 94 ans: ')\n",
    "print('')\n",
    "lingress_summary(Y3,average_purchases['age'].loc[(average_purchases['age'] > 50)])"
   ]
  },
  {
   "cell_type": "markdown",
   "metadata": {},
   "source": [
    "La p value des trois sous-échantillons ne permet pas d'écarter l'hypothèse nulle.\n",
    "\n",
    "L'analyse du coefficient de Pearson pour ces trois sous-échantillons et du coefficient de détermination ne permet pas d'établir une corrélation entre les deux variables.\n",
    "\n",
    "Néanmoins, on constate en observant le nuage de point semble bien montrer une corrélation. "
   ]
  },
  {
   "cell_type": "code",
   "execution_count": null,
   "metadata": {},
   "outputs": [],
   "source": [
    "medianprops = {'color':\"black\"}\n",
    "meanprops = {'marker':'o', 'markeredgecolor':'black',\n",
    "            'markerfacecolor':'firebrick'}\n",
    "plt.boxplot([  average_purchases[\"average_purchases\"].loc[(average_purchases['age'] <= 30)], average_purchases[\"average_purchases\"].loc[(average_purchases['age'] > 30) & (average_purchases['age'] <= 50)], average_purchases[\"average_purchases\"].loc[(average_purchases['age'] > 50)]],patch_artist=True, showmeans=True, medianprops = medianprops ,meanprops = meanprops)\n",
    "\n",
    "plt.gca().xaxis.set_ticklabels(['Under 30', \"Between 30 & 50\", \"Over 50\"])\n",
    "\n",
    "plt.ylabel('Average_purchases')\n",
    "\n",
    "plt.grid(b=None, which='major', axis='both')\n",
    "\n",
    "plt.show()\n",
    "\n",
    "print(\"Panier moyen, en nombre d'articles, pour les clients agés de moins de 30 ans :\")\n",
    "print('')\n",
    "print(average_purchases[\"average_purchases\"].loc[(average_purchases['age'] <= 30)].describe())\n",
    "print('')\n",
    "print(\"Panier moyen, en nombre d'articles, pour les clients agés de moins de 50 ans :\")\n",
    "print('')\n",
    "print(average_purchases[\"average_purchases\"].loc[(average_purchases['age'] > 30) & (average_purchases['age'] <= 50)].describe())\n",
    "print('')\n",
    "print(\"Panier moyen, en nombre d'articles, pour les clients de plus de 50 ans :\")\n",
    "print('')\n",
    "print(average_purchases[\"average_purchases\"].loc[(average_purchases['age'] > 50)].describe())"
   ]
  },
  {
   "cell_type": "code",
   "execution_count": null,
   "metadata": {},
   "outputs": [],
   "source": [
    "X = average_purchases['age']\n",
    "Y = average_purchases['average_purchases']\n",
    "\n",
    "def eta_squared(x,y):\n",
    "    moyenne_y = y.mean()\n",
    "    classes = []\n",
    "    for classe in x.unique():\n",
    "        yi_classe = y[x==classe]\n",
    "        classes.append({'ni': len(yi_classe),\n",
    "                        'moyenne_classe': yi_classe.mean()})\n",
    "    SCT = sum([(yj-moyenne_y)**2 for yj in y])\n",
    "    SCE = sum([c['ni']*(c['moyenne_classe']-moyenne_y)**2 for c in classes])\n",
    "    return SCE/SCT\n",
    "    \n",
    "eta_squared(X,Y)"
   ]
  },
  {
   "cell_type": "markdown",
   "metadata": {},
   "source": [
    "La valeur de l'eta carré nous indique qu'il y a probablement une corrélation entre les deux variables. "
   ]
  },
  {
   "cell_type": "code",
   "execution_count": 235,
   "metadata": {},
   "outputs": [
    {
     "data": {
      "text/plain": [
       "F_onewayResult(statistic=84129.26451972395, pvalue=0.0)"
      ]
     },
     "execution_count": 235,
     "metadata": {},
     "output_type": "execute_result"
    }
   ],
   "source": [
    "st.f_oneway( average_purchases['age'].loc[(average_purchases['age'] <= 30)],\n",
    "            average_purchases[\"average_purchases\"].loc[(average_purchases['age'] > 30) & (average_purchases['age'] <= 50)],\n",
    "            average_purchases[\"average_purchases\"].loc[(average_purchases['age'] > 50)])"
   ]
  },
  {
   "cell_type": "markdown",
   "metadata": {},
   "source": [
    "Cette pvalue nous permet de rejetter l'hypothèse nulle"
   ]
  },
  {
   "cell_type": "code",
   "execution_count": 237,
   "metadata": {},
   "outputs": [
    {
     "data": {
      "text/plain": [
       "(8596, 3)"
      ]
     },
     "execution_count": 237,
     "metadata": {},
     "output_type": "execute_result"
    }
   ],
   "source": [
    "average_purchases.shape"
   ]
  },
  {
   "cell_type": "code",
   "execution_count": 239,
   "metadata": {},
   "outputs": [
    {
     "data": {
      "text/plain": [
       "25788"
      ]
     },
     "execution_count": 239,
     "metadata": {},
     "output_type": "execute_result"
    }
   ],
   "source": [
    "11960 * 3 # calcul du degré de liberté "
   ]
  },
  {
   "cell_type": "markdown",
   "metadata": {},
   "source": [
    "### d. Les catégories de produits achetés"
   ]
  },
  {
   "cell_type": "code",
   "execution_count": 240,
   "metadata": {},
   "outputs": [
    {
     "data": {
      "image/png": "[encoded data removed]",
      "text/plain": [
       "<Figure size 432x288 with 1 Axes>"
      ]
     },
     "metadata": {
      "needs_background": "light"
     },
     "output_type": "display_data"
    },
    {
     "name": "stdout",
     "output_type": "stream",
     "text": [
      "Catégorie 0 :\n",
      "\n",
      "count    2266.000000\n",
      "mean        1.825989\n",
      "std         0.653266\n",
      "min         1.000000\n",
      "25%         1.380000\n",
      "50%         1.670000\n",
      "75%         2.100000\n",
      "max         7.000000\n",
      "Name: average_purchases, dtype: float64\n",
      "\n",
      "Catégorie 1 :\n",
      "\n",
      "count    3365.000000\n",
      "mean        2.459611\n",
      "std         0.399314\n",
      "min         1.000000\n",
      "25%         2.220000\n",
      "50%         2.410000\n",
      "75%         2.640000\n",
      "max         6.000000\n",
      "Name: average_purchases, dtype: float64\n",
      "\n",
      "Catégorie 2 :\n",
      "\n",
      "count    2965.000000\n",
      "mean        1.564536\n",
      "std         0.493477\n",
      "min         1.000000\n",
      "25%         1.250000\n",
      "50%         1.420000\n",
      "75%         1.730000\n",
      "max         5.000000\n",
      "Name: average_purchases, dtype: float64\n"
     ]
    }
   ],
   "source": [
    "medianprops = {'color':\"black\"}\n",
    "meanprops = {'marker':'o', 'markeredgecolor':'black',\n",
    "            'markerfacecolor':'firebrick'}\n",
    "\n",
    "plt.boxplot([  transactions[\"age\"][transactions['categ'] == 0], transactions[\"age\"][transactions['categ'] == 1], transactions[\"age\"][transactions['categ'] == 2]],patch_artist=True, showmeans=True, medianprops = medianprops ,meanprops = meanprops)\n",
    "\n",
    "plt.gca().xaxis.set_ticklabels(['category 0', \"category 1\", \"category 2\"])\n",
    "\n",
    "plt.ylabel('age')\n",
    "\n",
    "plt.grid(b=None, which='major', axis='both')\n",
    "\n",
    "plt.show()\n",
    "\n",
    "             \n",
    "print(\"Catégorie 0 :\")\n",
    "print('')\n",
    "print(average_purchases[\"average_purchases\"].loc[(average_purchases['age'] <= 30)].describe())\n",
    "print('')\n",
    "print(\"Catégorie 1 :\")\n",
    "print('')\n",
    "print(average_purchases[\"average_purchases\"].loc[(average_purchases['age'] > 30) & (average_purchases['age'] <= 50)].describe())\n",
    "print('')\n",
    "print(\"Catégorie 2 :\")\n",
    "print('')\n",
    "print(average_purchases[\"average_purchases\"].loc[(average_purchases['age'] > 50)].describe())"
   ]
  },
  {
   "cell_type": "markdown",
   "metadata": {},
   "source": [
    "Les variables semblent corélées, puisque la moyenne, la médiane et la variance sont différentes d'une catégorie à l'autre. \n",
    "\n",
    "Nous pouvons le vérifier en calculant l'eta carré :"
   ]
  },
  {
   "cell_type": "code",
   "execution_count": 241,
   "metadata": {},
   "outputs": [
    {
     "data": {
      "text/plain": [
       "0.11279029932310781"
      ]
     },
     "execution_count": 241,
     "metadata": {},
     "output_type": "execute_result"
    }
   ],
   "source": [
    "X = transactions['categ']\n",
    "Y = transactions['age'] \n",
    "\n",
    "def eta_squared(x,y):\n",
    "    moyenne_y = y.mean()\n",
    "    classes = []\n",
    "    for classe in x.unique():\n",
    "        yi_classe = y[x==classe]\n",
    "        classes.append({'ni': len(yi_classe),\n",
    "                        'moyenne_classe': yi_classe.mean()})\n",
    "    SCT = sum([(yj-moyenne_y)**2 for yj in y])\n",
    "    SCE = sum([c['ni']*(c['moyenne_classe']-moyenne_y)**2 for c in classes])\n",
    "    return SCE/SCT\n",
    "    \n",
    "eta_squared(X,Y)"
   ]
  },
  {
   "cell_type": "markdown",
   "metadata": {},
   "source": [
    "Le résultat trouvé nous laisse pensé qu'il y a bien une corrélation légère entre les variables. "
   ]
  },
  {
   "cell_type": "code",
   "execution_count": 242,
   "metadata": {},
   "outputs": [
    {
     "data": {
      "text/plain": [
       "F_onewayResult(statistic=19936.91670363778, pvalue=0.0)"
      ]
     },
     "execution_count": 242,
     "metadata": {},
     "output_type": "execute_result"
    }
   ],
   "source": [
    "st.f_oneway(transactions[\"age\"][transactions['categ'] == 0],\n",
    "            transactions[\"age\"][transactions['categ'] == 1],\n",
    "            transactions[\"age\"][transactions['categ'] == 2])"
   ]
  },
  {
   "cell_type": "markdown",
   "metadata": {},
   "source": [
    "La p valeur est proche de 0, l'hypothèse nulle peut être rejetée. "
   ]
  }
 ],
 "metadata": {
  "kernelspec": {
   "display_name": "Python 3",
   "language": "python",
   "name": "python3"
  },
  "language_info": {
   "codemirror_mode": {
    "name": "ipython",
    "version": 3
   },
   "file_extension": ".py",
   "mimetype": "text/x-python",
   "name": "python",
   "nbconvert_exporter": "python",
   "pygments_lexer": "ipython3",
   "version": "3.7.1"
  }
 },
 "nbformat": 4,
 "nbformat_minor": 2
}
